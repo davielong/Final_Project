{
 "cells": [
  {
   "cell_type": "code",
   "execution_count": 1,
   "id": "ae732515",
   "metadata": {},
   "outputs": [],
   "source": [
    "import os\n",
    "import csv\n",
    "import fnmatch\n",
    "import sys\n",
    "import time\n",
    "import pandas as pd\n",
    "import shutil\n",
    "import numpy as np\n",
    "from shutil import copyfile\n",
    "from numpy import savetxt\n",
    "\n",
    "directory = 'E:\\\\Win32_EXE\\\\'\n",
    "malsort = 'D:\\\\finalSet\\\\'\n",
    "malDir = 'C:\\\\Users\\davie\\Desktop\\Final_Project\\FYP\\Processed_Data\\\\'\n",
    "classes = ['agent.BDMJ', 'agen', 'allaple', 'autoit', 'berbew', 'bitman', 'dinwod', 'dorkbot', \n",
    "               'dridex', 'emotet', 'fsysna', 'hematite', 'installmonster', 'oberal', 'picsys', \n",
    "               'salgorea', 'scar', 'sfone', 'shifu', 'socks', 'sytro', 'vilsel', 'vobfus']"
   ]
  },
  {
   "cell_type": "code",
   "execution_count": null,
   "id": "50d88efc",
   "metadata": {},
   "outputs": [],
   "source": [
    "pData = []\n",
    "counter1 = 0\n",
    "counter2 = 0\n",
    "\n",
    "for row in data:\n",
    "    for c in classes:\n",
    "        sampleTag = row[65:]\n",
    "        if sampleTag == c:\n",
    "            pData.append(row)\n",
    "            counter1 +=1\n",
    "        else:counter2 +=1\n",
    "print('files scanned that match: ', counter1, ' and the total files scanned: ',counter2)    \n",
    "            "
   ]
  },
  {
   "cell_type": "code",
   "execution_count": null,
   "id": "27a8013a",
   "metadata": {},
   "outputs": [],
   "source": [
    "data.to_csv(malDir+'tempfinal.csv',index=False)"
   ]
  },
  {
   "cell_type": "code",
   "execution_count": 2,
   "id": "014f4477",
   "metadata": {},
   "outputs": [],
   "source": [
    "hlist = [\"mID\", \"mFName\"]\n",
    "data = pd.read_csv(malDir+ 'tempfinal.csv', names=hlist) \n",
    "data['mFName'] = data['mFName'].astype('string')\n",
    "data['mID'] = data['mID'].astype('string')"
   ]
  },
  {
   "cell_type": "code",
   "execution_count": 3,
   "id": "a4489158",
   "metadata": {},
   "outputs": [
    {
     "data": {
      "text/plain": [
       "StringDtype"
      ]
     },
     "execution_count": 3,
     "metadata": {},
     "output_type": "execute_result"
    }
   ],
   "source": [
    "data.describe\n",
    "data = data['mID']+','+data['mFName']\n",
    "data.head(5)\n",
    "data.dtypes"
   ]
  },
  {
   "cell_type": "code",
   "execution_count": 12,
   "id": "0adf520e",
   "metadata": {},
   "outputs": [
    {
     "name": "stdout",
     "output_type": "stream",
     "text": [
      "Done\n"
     ]
    }
   ],
   "source": [
    "for row in data:\n",
    "    malID,dstfolder = row.split(',', 1)\n",
    "    source = directory+malID\n",
    "    dst = malsort+dstfolder+'\\\\'+malID\n",
    "    command = 'move '+source+ ' '+dst\n",
    "    os.system(command)\n",
    "print('Done')"
   ]
  },
  {
   "cell_type": "code",
   "execution_count": null,
   "id": "521985c3",
   "metadata": {},
   "outputs": [],
   "source": []
  },
  {
   "cell_type": "code",
   "execution_count": 13,
   "id": "3ed64ceb",
   "metadata": {},
   "outputs": [
    {
     "data": {
      "text/plain": [
       "0    0003a317ff8c4c6ed4531f5cc3bdde7a8f54b7f978a230...\n",
       "1    009200d9950ce2f61e7dea44f53961f52f197ae820a1e7...\n",
       "2    00a2401e04544e198ea154be74e840dae729cb2856716a...\n",
       "3    00cd27690e6e4f75015c602bd8cf0f62c5d50aac6e8cc1...\n",
       "4    00fc48be83f7be3b399ca311c7852402c1ac95700caf91...\n",
       "dtype: string"
      ]
     },
     "execution_count": 13,
     "metadata": {},
     "output_type": "execute_result"
    }
   ],
   "source": [
    "data.head()"
   ]
  },
  {
   "cell_type": "code",
   "execution_count": null,
   "id": "a8a372bd",
   "metadata": {},
   "outputs": [],
   "source": []
  }
 ],
 "metadata": {
  "kernelspec": {
   "display_name": "myfypenv",
   "language": "python",
   "name": "myfypenv"
  },
  "language_info": {
   "codemirror_mode": {
    "name": "ipython",
    "version": 3
   },
   "file_extension": ".py",
   "mimetype": "text/x-python",
   "name": "python",
   "nbconvert_exporter": "python",
   "pygments_lexer": "ipython3",
   "version": "3.8.8"
  }
 },
 "nbformat": 4,
 "nbformat_minor": 5
}
