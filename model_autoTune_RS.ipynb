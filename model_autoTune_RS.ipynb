{
 "cells": [
  {
   "cell_type": "code",
   "execution_count": 1,
   "id": "f22ee45d",
   "metadata": {},
   "outputs": [],
   "source": [
    "# declare the imports for building our neural network and displaying our data \n",
    "import tensorflow as tf\n",
    "import PIL\n",
    "import os\n",
    "import h5py\n",
    "import sys\n",
    "import numpy as np\n",
    "import pandas as pd\n",
    "import random\n",
    "import csv\n",
    "import cv2\n",
    "import fnmatch\n",
    "from shutil import copyfile\n",
    "import matplotlib.pyplot as plt \n",
    "from sklearn.model_selection import train_test_split\n",
    "from numpy import asarray\n",
    "from numpy import savetxt\n",
    "from PIL import Image\n",
    "from tensorflow import keras\n",
    "from keras.models import Sequential\n",
    "from tensorflow.keras import layers\n",
    "from tensorflow.keras.layers import Dense, Dropout, Conv2D, MaxPool2D, Flatten\n",
    "from keras.utils import np_utils\n",
    "from matplotlib import image\n",
    "from os import listdir\n",
    "from keras.models import load_model\n",
    "import visualkeras\n",
    "from PIL import ImageFont\n",
    "from collections import defaultdict\n",
    "\n",
    "from sklearn.metrics import classification_report\n",
    "from keras import optimizers\n",
    "from tensorflow.keras.callbacks import EarlyStopping\n",
    "from kerastuner import HyperModel\n",
    "from kerastuner import RandomSearch\n",
    "\n",
    "\n",
    "# set the input and outpout Dirs\n",
    "data_dir = 'C:\\\\Users\\davie\\Desktop\\Final_Project\\FYP\\HCurve'\n",
    "Output = 'C:\\\\Users\\davie\\Desktop\\Final_Project\\FYP\\Processed_Data\\\\'"
   ]
  },
  {
   "cell_type": "code",
   "execution_count": 2,
   "id": "4efb0508",
   "metadata": {},
   "outputs": [
    {
     "name": "stdout",
     "output_type": "stream",
     "text": [
      "(9818, 32, 32, 3)\n",
      "(3273, 32, 32, 3)\n",
      "(9818,)\n",
      "(3273,)\n"
     ]
    }
   ],
   "source": [
    "#load and examine the shape of the datat\n",
    "X_train = np.load(Output+'xtrain32x32.npy')\n",
    "Y_train = np.load(Output+'ytrain32x32.npy')\n",
    "X_test = np.load(Output+'xtest32x32.npy')\n",
    "Y_test = np.load(Output+'ytest32x32.npy')\n",
    "print(X_train.shape)\n",
    "print(X_test.shape)\n",
    "print(Y_train.shape)\n",
    "print(Y_test.shape)"
   ]
  },
  {
   "cell_type": "code",
   "execution_count": 3,
   "id": "af62bac5",
   "metadata": {},
   "outputs": [],
   "source": [
    "# building the input vector from the 256x256 pixels\n",
    "X_train = X_train.astype('float32')\n",
    "X_test = X_test.astype('float32')\n",
    "# normalizing the data to help with the training\n",
    "X_train /= 255\n",
    "X_test /= 255"
   ]
  },
  {
   "cell_type": "code",
   "execution_count": 4,
   "id": "e42926de",
   "metadata": {},
   "outputs": [
    {
     "name": "stdout",
     "output_type": "stream",
     "text": [
      "Shape before one-hot encoding:  (9818,)\n",
      "Shape after one-hot encoding:  (9818, 23)\n"
     ]
    }
   ],
   "source": [
    "# one-hot encoding using keras\n",
    "n_classes = 23\n",
    "class_names = ['ABDMJ', 'Agen', 'Allaple', 'Autoit', 'Berbew', 'Bitman', 'Dinwod', 'Dorkbot', \n",
    "               'Dridex', 'Emotet', 'Fsysna', 'Hematite', 'InstallMonster', 'Oberal', 'Picsys', \n",
    "               'Salgorea', 'Scar', 'Sfone', 'Shifu', 'Socks', 'Sytro', 'Vilsel', 'Vobfus']\n",
    "print(\"Shape before one-hot encoding: \", Y_train.shape)\n",
    "Y_train = np_utils.to_categorical(Y_train, n_classes)\n",
    "Y_test = np_utils.to_categorical(Y_test, n_classes)\n",
    "print(\"Shape after one-hot encoding: \", Y_train.shape)"
   ]
  },
  {
   "cell_type": "code",
   "execution_count": 5,
   "id": "77fcc1f6",
   "metadata": {
    "scrolled": true
   },
   "outputs": [
    {
     "name": "stdout",
     "output_type": "stream",
     "text": [
      "(9818, 32, 32, 3)\n",
      "(3273, 32, 32, 3)\n",
      "(9818, 23)\n",
      "(3273, 23)\n"
     ]
    }
   ],
   "source": [
    "print(X_train.shape)\n",
    "print(X_test.shape)\n",
    "print(Y_train.shape)\n",
    "print(Y_test.shape)"
   ]
  },
  {
   "cell_type": "code",
   "execution_count": 23,
   "id": "ae50951e",
   "metadata": {},
   "outputs": [],
   "source": [
    "def build_model(hp):\n",
    "    model = keras.Sequential()\n",
    "    model.add(layers.Flatten())\n",
    "    for i in range(hp.Int(\"num_layers\", 2, 20)):\n",
    "        model.add(layers.Dense(units=hp.Int(\"units_\" + str(i), min_value=32, max_value=512, step=32),activation=\"relu\",))\n",
    "    model.add(layers.Dense(23, activation=\"softmax\"))\n",
    "    model.compile(optimizer=keras.optimizers.Adam(hp.Choice(\"learning_rate\", [1e-2, 1e-3, 1e-4])),\n",
    "                  loss=\"categorical_crossentropy\",metrics=[\"accuracy\"],)\n",
    "    return model"
   ]
  },
  {
   "cell_type": "code",
   "execution_count": 24,
   "id": "cd9c93e6",
   "metadata": {},
   "outputs": [],
   "source": [
    "# initialize an early stopping callback to prevent the model from\n",
    "# overfitting/spending too much time training with minimal gains\n",
    "es = EarlyStopping(monitor=\"val_accuracy\",patience=5,restore_best_weights=True)"
   ]
  },
  {
   "cell_type": "code",
   "execution_count": 25,
   "id": "f8863bd5",
   "metadata": {},
   "outputs": [
    {
     "name": "stdout",
     "output_type": "stream",
     "text": [
      "INFO:tensorflow:Reloading Oracle from existing project C:\\Users\\davie\\Desktop\\Final_Project\\FYP\\Processed_Data\\AutoTuneRS\\oracle.json\n"
     ]
    }
   ],
   "source": [
    "tuner = RandomSearch(build_model,objective=\"val_accuracy\",max_trials=5,seed=42, directory=Output, project_name='AutoTuneRS')"
   ]
  },
  {
   "cell_type": "code",
   "execution_count": 26,
   "id": "baf48908",
   "metadata": {
    "scrolled": false
   },
   "outputs": [
    {
     "name": "stdout",
     "output_type": "stream",
     "text": [
      "Trial 5 Complete [00h 07m 05s]\n",
      "val_accuracy: 0.8686220645904541\n",
      "\n",
      "Best val_accuracy So Far: 0.8686220645904541\n",
      "Total elapsed time: 00h 14m 51s\n",
      "INFO:tensorflow:Oracle triggered exit\n"
     ]
    }
   ],
   "source": [
    "# perform the hyperparameter search\n",
    "print(\"[INFO] performing hyperparameter search...\")\n",
    "tuner.search(x=X_train, y=Y_train,validation_data=(X_test, Y_test), batch_size=100, callbacks=[es], epochs=30)\n",
    "# grab the best hyperparameters\n",
    "bestHP = tuner.get_best_hyperparameters(num_trials=1)[0]"
   ]
  },
  {
   "cell_type": "code",
   "execution_count": null,
   "id": "888287f7",
   "metadata": {
    "scrolled": false
   },
   "outputs": [
    {
     "name": "stdout",
     "output_type": "stream",
     "text": [
      "[INFO] training the best model...\n",
      "Epoch 1/30\n",
      "99/99 [==============================] - 7s 61ms/step - loss: 2.3147 - accuracy: 0.3570 - val_loss: 1.8379 - val_accuracy: 0.4876\n",
      "Epoch 2/30\n",
      "99/99 [==============================] - 6s 61ms/step - loss: 1.5645 - accuracy: 0.5743 - val_loss: 1.3728 - val_accuracy: 0.6688\n",
      "Epoch 3/30\n",
      "99/99 [==============================] - 7s 67ms/step - loss: 1.1906 - accuracy: 0.6861 - val_loss: 1.0824 - val_accuracy: 0.7259\n",
      "Epoch 4/30\n",
      "99/99 [==============================] - 8s 79ms/step - loss: 0.9452 - accuracy: 0.7605 - val_loss: 0.9532 - val_accuracy: 0.7571\n",
      "Epoch 5/30\n",
      "99/99 [==============================] - 6s 61ms/step - loss: 0.7833 - accuracy: 0.8063 - val_loss: 0.8105 - val_accuracy: 0.7797\n",
      "Epoch 6/30\n",
      "99/99 [==============================] - 6s 58ms/step - loss: 0.6732 - accuracy: 0.8314 - val_loss: 0.6615 - val_accuracy: 0.8262\n",
      "Epoch 7/30\n",
      "99/99 [==============================] - 6s 61ms/step - loss: 0.5855 - accuracy: 0.8564 - val_loss: 0.5967 - val_accuracy: 0.8637\n",
      "Epoch 8/30\n",
      "41/99 [===========>..................] - ETA: 2s - loss: 0.5391 - accuracy: 0.8663"
     ]
    }
   ],
   "source": [
    "# build the best model and train it\n",
    "print(\"[INFO] training the best model...\")\n",
    "model = tuner.hypermodel.build(bestHP)\n",
    "history = model.fit(x=X_train, y=Y_train, validation_data=(X_test, Y_test), batch_size=100,epochs=30, callbacks=[es], verbose=1)\n",
    "# evaluate the network\n",
    "print(\"[INFO] evaluating network...\")\n",
    "predictions = model.predict(x=X_test, batch_size=100)\n",
    "print(classification_report(Y_test.argmax(axis=1), predictions.argmax(axis=1), target_names=class_names))"
   ]
  },
  {
   "cell_type": "code",
   "execution_count": null,
   "id": "493b79a1",
   "metadata": {},
   "outputs": [],
   "source": [
    "# evaluate the model and print the score to screen \n",
    "trainingscores = model.evaluate(X_train, Y_train, verbose=0)\n",
    "testingscores = model.evaluate(X_test, Y_test, verbose=0)\n",
    "print(\"[INFO] evaluating network\")\n",
    "predictions = model.predict(X_test, batch_size=100)\n",
    "print(\"training scores are below \\n\")\n",
    "print(\"%s: %.2f%%\" % (model.metrics_names[1], trainingscores[1]*100))\n",
    "print(\"testing scores are below \\n\")\n",
    "print(\"%s: %.2f%%\" % (model.metrics_names[1], testingscores[1]*100))"
   ]
  },
  {
   "cell_type": "code",
   "execution_count": 16,
   "id": "b4883df8",
   "metadata": {},
   "outputs": [
    {
     "data": {
      "image/png": "[encoded data removed]",
      "text/plain": [
       "<Figure size 432x288 with 1 Axes>"
      ]
     },
     "metadata": {
      "needs_background": "light"
     },
     "output_type": "display_data"
    },
    {
     "data": {
      "image/png": "[encoded data removed]",
      "text/plain": [
       "<Figure size 432x288 with 1 Axes>"
      ]
     },
     "metadata": {
      "needs_background": "light"
     },
     "output_type": "display_data"
    },
    {
     "data": {
      "image/png": "[encoded data removed]",
      "text/plain": [
       "<Figure size 432x288 with 1 Axes>"
      ]
     },
     "metadata": {
      "needs_background": "light"
     },
     "output_type": "display_data"
    }
   ],
   "source": [
    "# Declare vars for the plotting of figures \n",
    "accuracy = history.history['accuracy']\n",
    "val_accuracy = history.history['val_accuracy']\n",
    "loss = history.history['loss']\n",
    "val_loss = history.history['val_loss']\n",
    "epochs = range(len(accuracy))\n",
    "\n",
    "# overall model scoreing \n",
    "plt.plot(val_loss, 'r', loss, 'b', val_accuracy, 'g', accuracy, 'y')\n",
    "label = 'R = val_loss', 'B = loss', 'G = val_accuracy', 'Y = accuarcy'\n",
    "plt.title('Model Overview')\n",
    "plt.legend(label)\n",
    "plt.xlabel(\"Epoch #\")\n",
    "plt.ylabel(\"Loss/Accuracy\")\n",
    "plt.show()\n",
    "\n",
    "# Training output \n",
    "plt.plot(epochs, accuracy, label='Training accuracy')\n",
    "plt.plot(epochs, val_accuracy, label='Validation accuracy')\n",
    "plt.title('Training and validation accuracy')\n",
    "plt.legend()\n",
    "plt.xlabel(\"Epoch #\")\n",
    "plt.ylabel(\"Loss/Accuracy\")\n",
    "plt.show()\n",
    "\n",
    "# testing output \n",
    "plt.plot(epochs, loss, label='Training loss')\n",
    "plt.plot(epochs, val_loss, label='Validation loss')\n",
    "plt.title('Training and validation loss')\n",
    "plt.legend()\n",
    "plt.xlabel(\"Epoch #\")\n",
    "plt.ylabel(\"Loss/Accuracy\")\n",
    "plt.show()"
   ]
  },
  {
   "cell_type": "code",
   "execution_count": 17,
   "id": "517610ff",
   "metadata": {},
   "outputs": [
    {
     "name": "stdout",
     "output_type": "stream",
     "text": [
      "Saved model to disk\n"
     ]
    }
   ],
   "source": [
    "model.save(Output + \"autoTuneRS.h5\")\n",
    "print(\"Saved model to disk\")"
   ]
  },
  {
   "cell_type": "code",
   "execution_count": 32,
   "id": "5922ec42",
   "metadata": {},
   "outputs": [
    {
     "ename": "OSError",
     "evalue": "SavedModel file does not exist at: autotuneHB.h5\\{saved_model.pbtxt|saved_model.pb}",
     "output_type": "error",
     "traceback": [
      "\u001b[1;31m---------------------------------------------------------------------------\u001b[0m",
      "\u001b[1;31mOSError\u001b[0m                                   Traceback (most recent call last)",
      "\u001b[1;32m<ipython-input-32-152d56f87bac>\u001b[0m in \u001b[0;36m<module>\u001b[1;34m\u001b[0m\n\u001b[0;32m      1\u001b[0m \u001b[1;32mfrom\u001b[0m \u001b[0mkeras\u001b[0m\u001b[1;33m.\u001b[0m\u001b[0mmodels\u001b[0m \u001b[1;32mimport\u001b[0m \u001b[0mload_model\u001b[0m\u001b[1;33m\u001b[0m\u001b[1;33m\u001b[0m\u001b[0m\n\u001b[1;32m----> 2\u001b[1;33m \u001b[0mmodel\u001b[0m \u001b[1;33m=\u001b[0m \u001b[0mload_model\u001b[0m\u001b[1;33m(\u001b[0m\u001b[1;34m'autotuneHB.h5'\u001b[0m\u001b[1;33m)\u001b[0m\u001b[1;33m\u001b[0m\u001b[1;33m\u001b[0m\u001b[0m\n\u001b[0m\u001b[0;32m      3\u001b[0m \u001b[1;31m#modPath = 'C:\\\\Users\\davie\\Desktop\\Final_Project\\FYP\\Processed_Data\\autoTuneRS.h5'\u001b[0m\u001b[1;33m\u001b[0m\u001b[1;33m\u001b[0m\u001b[1;33m\u001b[0m\u001b[0m\n\u001b[0;32m      4\u001b[0m \u001b[1;31m#model = keras.models.load_model(modPath)\u001b[0m\u001b[1;33m\u001b[0m\u001b[1;33m\u001b[0m\u001b[1;33m\u001b[0m\u001b[0m\n",
      "\u001b[1;32m~\\AppData\\Roaming\\Python\\Python38\\site-packages\\keras\\saving\\save.py\u001b[0m in \u001b[0;36mload_model\u001b[1;34m(filepath, custom_objects, compile, options)\u001b[0m\n\u001b[0;32m    204\u001b[0m         \u001b[0mfilepath\u001b[0m \u001b[1;33m=\u001b[0m \u001b[0mpath_to_string\u001b[0m\u001b[1;33m(\u001b[0m\u001b[0mfilepath\u001b[0m\u001b[1;33m)\u001b[0m\u001b[1;33m\u001b[0m\u001b[1;33m\u001b[0m\u001b[0m\n\u001b[0;32m    205\u001b[0m         \u001b[1;32mif\u001b[0m \u001b[0misinstance\u001b[0m\u001b[1;33m(\u001b[0m\u001b[0mfilepath\u001b[0m\u001b[1;33m,\u001b[0m \u001b[0mstr\u001b[0m\u001b[1;33m)\u001b[0m\u001b[1;33m:\u001b[0m\u001b[1;33m\u001b[0m\u001b[1;33m\u001b[0m\u001b[0m\n\u001b[1;32m--> 206\u001b[1;33m           \u001b[1;32mreturn\u001b[0m \u001b[0msaved_model_load\u001b[0m\u001b[1;33m.\u001b[0m\u001b[0mload\u001b[0m\u001b[1;33m(\u001b[0m\u001b[0mfilepath\u001b[0m\u001b[1;33m,\u001b[0m \u001b[0mcompile\u001b[0m\u001b[1;33m,\u001b[0m \u001b[0moptions\u001b[0m\u001b[1;33m)\u001b[0m\u001b[1;33m\u001b[0m\u001b[1;33m\u001b[0m\u001b[0m\n\u001b[0m\u001b[0;32m    207\u001b[0m \u001b[1;33m\u001b[0m\u001b[0m\n\u001b[0;32m    208\u001b[0m   raise IOError(\n",
      "\u001b[1;32m~\\AppData\\Roaming\\Python\\Python38\\site-packages\\keras\\saving\\saved_model\\load.py\u001b[0m in \u001b[0;36mload\u001b[1;34m(path, compile, options)\u001b[0m\n\u001b[0;32m    107\u001b[0m   \u001b[1;31m# Look for metadata file or parse the SavedModel\u001b[0m\u001b[1;33m\u001b[0m\u001b[1;33m\u001b[0m\u001b[1;33m\u001b[0m\u001b[0m\n\u001b[0;32m    108\u001b[0m   \u001b[0mmetadata\u001b[0m \u001b[1;33m=\u001b[0m \u001b[0msaved_metadata_pb2\u001b[0m\u001b[1;33m.\u001b[0m\u001b[0mSavedMetadata\u001b[0m\u001b[1;33m(\u001b[0m\u001b[1;33m)\u001b[0m\u001b[1;33m\u001b[0m\u001b[1;33m\u001b[0m\u001b[0m\n\u001b[1;32m--> 109\u001b[1;33m   \u001b[0mmeta_graph_def\u001b[0m \u001b[1;33m=\u001b[0m \u001b[0mloader_impl\u001b[0m\u001b[1;33m.\u001b[0m\u001b[0mparse_saved_model\u001b[0m\u001b[1;33m(\u001b[0m\u001b[0mpath\u001b[0m\u001b[1;33m)\u001b[0m\u001b[1;33m.\u001b[0m\u001b[0mmeta_graphs\u001b[0m\u001b[1;33m[\u001b[0m\u001b[1;36m0\u001b[0m\u001b[1;33m]\u001b[0m\u001b[1;33m\u001b[0m\u001b[1;33m\u001b[0m\u001b[0m\n\u001b[0m\u001b[0;32m    110\u001b[0m   \u001b[0mobject_graph_def\u001b[0m \u001b[1;33m=\u001b[0m \u001b[0mmeta_graph_def\u001b[0m\u001b[1;33m.\u001b[0m\u001b[0mobject_graph_def\u001b[0m\u001b[1;33m\u001b[0m\u001b[1;33m\u001b[0m\u001b[0m\n\u001b[0;32m    111\u001b[0m   \u001b[0mpath_to_metadata_pb\u001b[0m \u001b[1;33m=\u001b[0m \u001b[0mos\u001b[0m\u001b[1;33m.\u001b[0m\u001b[0mpath\u001b[0m\u001b[1;33m.\u001b[0m\u001b[0mjoin\u001b[0m\u001b[1;33m(\u001b[0m\u001b[0mpath\u001b[0m\u001b[1;33m,\u001b[0m \u001b[0mconstants\u001b[0m\u001b[1;33m.\u001b[0m\u001b[0mSAVED_METADATA_PATH\u001b[0m\u001b[1;33m)\u001b[0m\u001b[1;33m\u001b[0m\u001b[1;33m\u001b[0m\u001b[0m\n",
      "\u001b[1;32m~\\AppData\\Roaming\\Python\\Python38\\site-packages\\tensorflow\\python\\saved_model\\loader_impl.py\u001b[0m in \u001b[0;36mparse_saved_model\u001b[1;34m(export_dir)\u001b[0m\n\u001b[0;32m    111\u001b[0m       \u001b[1;32mraise\u001b[0m \u001b[0mIOError\u001b[0m\u001b[1;33m(\u001b[0m\u001b[1;34m\"Cannot parse file %s: %s.\"\u001b[0m \u001b[1;33m%\u001b[0m \u001b[1;33m(\u001b[0m\u001b[0mpath_to_pbtxt\u001b[0m\u001b[1;33m,\u001b[0m \u001b[0mstr\u001b[0m\u001b[1;33m(\u001b[0m\u001b[0me\u001b[0m\u001b[1;33m)\u001b[0m\u001b[1;33m)\u001b[0m\u001b[1;33m)\u001b[0m\u001b[1;33m\u001b[0m\u001b[1;33m\u001b[0m\u001b[0m\n\u001b[0;32m    112\u001b[0m   \u001b[1;32melse\u001b[0m\u001b[1;33m:\u001b[0m\u001b[1;33m\u001b[0m\u001b[1;33m\u001b[0m\u001b[0m\n\u001b[1;32m--> 113\u001b[1;33m     raise IOError(\n\u001b[0m\u001b[0;32m    114\u001b[0m         \u001b[1;34m\"SavedModel file does not exist at: %s%s{%s|%s}\"\u001b[0m \u001b[1;33m%\u001b[0m\u001b[1;33m\u001b[0m\u001b[1;33m\u001b[0m\u001b[0m\n\u001b[0;32m    115\u001b[0m         (export_dir, os.path.sep, constants.SAVED_MODEL_FILENAME_PBTXT,\n",
      "\u001b[1;31mOSError\u001b[0m: SavedModel file does not exist at: autotuneHB.h5\\{saved_model.pbtxt|saved_model.pb}"
     ]
    }
   ],
   "source": [
    "from keras.models import load_model\n",
    "model = load_model('autotuneHB.h5')\n",
    "#modPath = 'C:\\\\Users\\davie\\Desktop\\Final_Project\\FYP\\Processed_Data\\autoTuneRS.h5'\n",
    "#model = keras.models.load_model(modPath)"
   ]
  },
  {
   "cell_type": "code",
   "execution_count": null,
   "id": "db306a19",
   "metadata": {},
   "outputs": [],
   "source": []
  },
  {
   "cell_type": "code",
   "execution_count": null,
   "id": "2566cf38",
   "metadata": {},
   "outputs": [],
   "source": [
    "#visualkeras.layered_view(model).show() # display using your system viewer\n",
    "#visualkeras.layered_view(model, to_file='output.png') # write to disk\n",
    "#visualkeras.layered_view(model, to_file='output.png').show() # write and show\n",
    "\n",
    "color_map = defaultdict(dict)\n",
    "color_map[Conv2D]['fill'] = 'yellow'\n",
    "color_map[Dropout]['fill'] = 'red'\n",
    "color_map[MaxPool2D]['fill'] = 'purple'\n",
    "color_map[Dense]['fill'] = 'green'\n",
    "color_map[Flatten]['fill'] = 'gray'\n",
    "\n",
    "font = ImageFont.truetype(\"arial.ttf\", 20) \n",
    "visualkeras.layered_view(model, legend=True, font=font,color_map=color_map)  "
   ]
  },
  {
   "cell_type": "code",
   "execution_count": null,
   "id": "4d709d01",
   "metadata": {},
   "outputs": [],
   "source": []
  }
 ],
 "metadata": {
  "kernelspec": {
   "display_name": "myfypenv",
   "language": "python",
   "name": "myfypenv"
  },
  "language_info": {
   "codemirror_mode": {
    "name": "ipython",
    "version": 3
   },
   "file_extension": ".py",
   "mimetype": "text/x-python",
   "name": "python",
   "nbconvert_exporter": "python",
   "pygments_lexer": "ipython3",
   "version": "3.8.8"
  }
 },
 "nbformat": 4,
 "nbformat_minor": 5
}
