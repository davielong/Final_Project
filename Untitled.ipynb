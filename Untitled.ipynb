{
 "cells": [
  {
   "cell_type": "code",
   "execution_count": 36,
   "id": "1d30a46f",
   "metadata": {},
   "outputs": [
    {
     "name": "stdout",
     "output_type": "stream",
     "text": [
      "<bound method NDFrame.head of                                                      mID    mFName\n",
      "0      0003a317ff8c4c6ed4531f5cc3bdde7a8f54b7f978a230...     sfone\n",
      "1      009200d9950ce2f61e7dea44f53961f52f197ae820a1e7...  hematite\n",
      "2      00a2401e04544e198ea154be74e840dae729cb2856716a...     sytro\n",
      "3      00cd27690e6e4f75015c602bd8cf0f62c5d50aac6e8cc1...     sfone\n",
      "4      00fc48be83f7be3b399ca311c7852402c1ac95700caf91...     sfone\n",
      "...                                                  ...       ...\n",
      "12979  ffcd8089c8424c18a75ea46a0b00111be1238f67ca5c16...    berbew\n",
      "12980  ffd58aa994baecb5953e37dbe941568d241ccd68c892f5...    berbew\n",
      "12981  ffd6dd62d9bc5ae266034f72423b2730af78e64001cf56...    berbew\n",
      "12982  ffdd33ca75f55c5be1211a2c6c9d3693d822d6a61296b4...     sytro\n",
      "12983  ffeac02ffa9cbc34ac9d1c38a8e78b6ac01315c8e99c09...    dinwod\n",
      "\n",
      "[12984 rows x 2 columns]>\n"
     ]
    }
   ],
   "source": [
    "import os\n",
    "import csv\n",
    "import fnmatch\n",
    "import sys\n",
    "import time\n",
    "import pandas as pd\n",
    "import shutil\n",
    "import numpy as np\n",
    "from shutil import copyfile\n",
    "from numpy import savetxt\n",
    "\n",
    "directory = 'E:\\\\Win32_EXE\\\\'\n",
    "malDir = 'C:\\\\Users\\davie\\Desktop\\Final_Project\\FYP\\Processed_Data\\\\'\n",
    "classes = ['agent.BDMJ', 'agen', 'allaple', 'autoit', 'berbew', 'bitman', 'dinwod', 'dorkbot', \n",
    "               'dridex', 'emotet', 'fsysna', 'hematite', 'installmonster', 'oberal', 'picsys', \n",
    "               'salgorea', 'scar', 'sfone', 'shifu', 'socks', 'sytro', 'vilsel', 'vobfus']\n",
    "outputDir = 'D:\\\\finalSet\\\\'\n",
    "nameList = ['mID','mFName']\n",
    "data = pd.read_csv('C:\\\\Users\\davie\\Desktop\\Final_Project\\FYP\\Processed_Data\\\\tempfinal.csv', names=nameList)\n",
    "\n",
    "print(data.head)\n",
    "\n"
   ]
  },
  {
   "cell_type": "code",
   "execution_count": 37,
   "id": "e1e3c4cb",
   "metadata": {},
   "outputs": [],
   "source": [
    "hlist = [\"mID\", \"mFName\"]\n",
    "data['mFName'] = data['mFName'].astype('string')\n",
    "data['mID'] = data['mID'].astype('string')"
   ]
  },
  {
   "cell_type": "code",
   "execution_count": 38,
   "id": "049448d1",
   "metadata": {},
   "outputs": [],
   "source": [
    "data.dtypes\n",
    "data = data['mID']+','+data['mFName']\n"
   ]
  },
  {
   "cell_type": "code",
   "execution_count": 39,
   "id": "c3f81d12",
   "metadata": {},
   "outputs": [
    {
     "name": "stdout",
     "output_type": "stream",
     "text": [
      "files scanned that match:  12984  and the total files scanned:  285648\n"
     ]
    }
   ],
   "source": [
    "pData = []\n",
    "counter1 = 0\n",
    "counter2 = 0\n",
    "\n",
    "for row in data:\n",
    "    for c in classes:\n",
    "        sampleTag = row[65:]\n",
    "        if sampleTag == c:\n",
    "            pData.append(row)\n",
    "            counter1 +=1\n",
    "        else:counter2 +=1\n",
    "print('files scanned that match: ', counter1, ' and the total files scanned: ',counter2)"
   ]
  },
  {
   "cell_type": "code",
   "execution_count": null,
   "id": "6668b7aa",
   "metadata": {},
   "outputs": [],
   "source": []
  },
  {
   "cell_type": "code",
   "execution_count": 61,
   "id": "e876c4e5",
   "metadata": {},
   "outputs": [
    {
     "data": {
      "text/plain": [
       "StringDtype"
      ]
     },
     "execution_count": 61,
     "metadata": {},
     "output_type": "execute_result"
    }
   ],
   "source": [
    "data.dtypes"
   ]
  },
  {
   "cell_type": "code",
   "execution_count": 70,
   "id": "83c6ba9c",
   "metadata": {},
   "outputs": [
    {
     "name": "stdout",
     "output_type": "stream",
     "text": [
      "done\n"
     ]
    }
   ],
   "source": [
    "for row in data:\n",
    "    for c in classes:\n",
    "        sampleTag = row[65:]\n",
    "        fileID = row[:64]\n",
    "        source = directory+fileID\n",
    "        dst = outputDir+sampleTag+'\\\\'+fileID\n",
    "        if sampleTag == c:\n",
    "            command = 'move '+source+' '+dst\n",
    "            os.system(command)\n",
    "print('done') \n"
   ]
  },
  {
   "cell_type": "code",
   "execution_count": null,
   "id": "f904812d",
   "metadata": {},
   "outputs": [],
   "source": []
  }
 ],
 "metadata": {
  "kernelspec": {
   "display_name": "myfypenv",
   "language": "python",
   "name": "myfypenv"
  },
  "language_info": {
   "codemirror_mode": {
    "name": "ipython",
    "version": 3
   },
   "file_extension": ".py",
   "mimetype": "text/x-python",
   "name": "python",
   "nbconvert_exporter": "python",
   "pygments_lexer": "ipython3",
   "version": "3.8.8"
  }
 },
 "nbformat": 4,
 "nbformat_minor": 5
}
