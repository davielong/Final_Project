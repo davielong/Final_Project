{
 "cells": [
  {
   "cell_type": "code",
   "execution_count": 18,
   "id": "f22ee45d",
   "metadata": {},
   "outputs": [],
   "source": [
    "# keras imports for the dataset and building our neural network\n",
    "import tensorflow as tf\n",
    "import PIL\n",
    "import os\n",
    "import h5py\n",
    "import sys\n",
    "import numpy as np\n",
    "import pandas as pd\n",
    "import random\n",
    "import csv\n",
    "import cv2\n",
    "import fnmatch\n",
    "import itertools  \n",
    "from shutil import copyfile\n",
    "import matplotlib.pyplot as plt \n",
    "from sklearn.model_selection import train_test_split\n",
    "from sklearn.metrics import classification_report, confusion_matrix\n",
    "from numpy import asarray\n",
    "from numpy import savetxt\n",
    "from PIL import Image\n",
    "from tensorflow import keras\n",
    "from keras.models import Sequential\n",
    "from tensorflow.keras.layers import Dense, Dropout, Conv2D, MaxPool2D, Flatten\n",
    "from keras.utils import np_utils\n",
    "from matplotlib import image\n",
    "from os import listdir\n",
    "from keras.models import load_model\n",
    "import visualkeras\n",
    "from PIL import ImageFont\n",
    "from collections import defaultdict\n",
    "\n",
    "data_dir = 'D:\\\\finalSet\\\\finalset\\\\'\n",
    "Output = 'C:\\\\Users\\davie\\Desktop\\Final_Project\\FYP\\Processed_Data\\\\'\n",
    "\n",
    "# load all images in a directory\n",
    "loaded_images = []\n",
    "labels = []\n",
    "\n",
    "def find_dirs(directory, pattern):\n",
    "    for item in os.listdir(directory):\n",
    "        if os.path.isdir(os.path.join(directory, item)):\n",
    "            if fnmatch.fnmatch(item, pattern):\n",
    "                filename = os.path.join(directory, item)\n",
    "                yield filename\n",
    "                \n",
    "def find_files(directory, pattern):\n",
    "    for item in os.listdir(directory):\n",
    "        if os.path.isfile(os.path.join(directory, item)):\n",
    "            if fnmatch.fnmatch(item, pattern):\n",
    "                filename = os.path.join(directory, item)\n",
    "                if 'ABDMJ' in directory: labels.append(0)\n",
    "                elif  'Agen' in directory: labels.append(1)# changes from Agent.BDJM for labeling reasons\n",
    "                elif  'Allaple'  in directory: labels.append(2)\n",
    "                elif  'Autoit'  in directory: labels.append(3)\n",
    "                elif  'Berbew'  in directory: labels.append(4)\n",
    "                elif  'Bitman'  in directory: labels.append(5)\n",
    "                elif  'Dinwod' in directory: labels.append(6)\n",
    "                elif  'Dorkbot'  in directory: labels.append(7)\n",
    "                elif  'Dridex'  in directory: labels.append(8)\n",
    "                elif  'Emotet'  in directory: labels.append(9)\n",
    "                elif  'Fsysna'  in directory: labels.append(10)\n",
    "                elif  'Hematite'  in directory: labels.append(11)\n",
    "                elif  'InstallMonster'  in directory: labels.append(12)\n",
    "                elif  'Oberal'  in directory: labels.append(13)\n",
    "                elif  'Picsys'  in directory: labels.append(14)\n",
    "                elif  'Salgorea'  in directory: labels.append(15)\n",
    "                elif  'Scar'  in directory: labels.append(16)\n",
    "                elif  'Sfone'  in directory: labels.append(17)\n",
    "                elif  'Shifu'  in directory: labels.append(18)\n",
    "                elif  'Socks'  in directory: labels.append(19)\n",
    "                elif  'Sytro'  in directory: labels.append(20)\n",
    "                elif  'Vilsel'  in directory: labels.append(21)\n",
    "                elif  'Vobfus' in directory : labels.append(22)\n",
    "                yield filename"
   ]
  },
  {
   "cell_type": "code",
   "execution_count": 2,
   "id": "7f6e3204",
   "metadata": {},
   "outputs": [
    {
     "name": "stdout",
     "output_type": "stream",
     "text": [
      "Done\n"
     ]
    }
   ],
   "source": [
    "runtime = True\n",
    "while runtime == True:\n",
    "    for filedir in find_dirs(data_dir, '*'):\n",
    "            for filename in find_files(filedir, '*'):              \n",
    "                img_data = cv2.imread(filename)\n",
    "                dim = (32, 32)  \n",
    "                # resize images\n",
    "                resized = cv2.resize(img_data, dim, interpolation = cv2.INTER_AREA)\n",
    "                loaded_images.append(resized)\n",
    "    print(\"Done\")\n",
    "    runtime = False;"
   ]
  },
  {
   "cell_type": "code",
   "execution_count": 3,
   "id": "12e7e0f7",
   "metadata": {},
   "outputs": [],
   "source": [
    "imsARR = np.array(loaded_images)\n",
    "labsARR = np.array(labels)"
   ]
  },
  {
   "cell_type": "code",
   "execution_count": 4,
   "id": "42c24df6",
   "metadata": {},
   "outputs": [
    {
     "name": "stdout",
     "output_type": "stream",
     "text": [
      "(12816, 32, 32, 3)\n",
      "(12816,)\n"
     ]
    }
   ],
   "source": [
    "print(imsARR.shape)\n",
    "print(labsARR.shape)"
   ]
  },
  {
   "cell_type": "code",
   "execution_count": 5,
   "id": "af62bac5",
   "metadata": {},
   "outputs": [],
   "source": [
    "# # building the input vector from the 32x32 pixels\n",
    "valset = imsARR.astype('float32')\n",
    "# normalizing the data to help with the training\n",
    "valset /= 255"
   ]
  },
  {
   "cell_type": "code",
   "execution_count": 6,
   "id": "e42926de",
   "metadata": {},
   "outputs": [
    {
     "name": "stdout",
     "output_type": "stream",
     "text": [
      "Shape before one-hot encoding:  (12816,)\n",
      "Shape after one-hot encoding:  (12816, 23)\n"
     ]
    }
   ],
   "source": [
    "# one-hot encoding using keras' numpy-related utilities\n",
    "n_classes = 23\n",
    "print(\"Shape before one-hot encoding: \", labsARR.shape)\n",
    "valLabels = np_utils.to_categorical(labsARR, n_classes)\n",
    "print(\"Shape after one-hot encoding: \", valLabels.shape)"
   ]
  },
  {
   "cell_type": "code",
   "execution_count": 21,
   "id": "b7adba37",
   "metadata": {},
   "outputs": [
    {
     "name": "stdout",
     "output_type": "stream",
     "text": [
      "12816 (12816, 32, 32, 3)\n",
      "12816 (12816, 23)\n"
     ]
    }
   ],
   "source": [
    "print(len(valset), valset.shape)\n",
    "print(len(valLabels), valLabels.shape)\n",
    "np.save(Output+'valims.csv', valset)\n",
    "np.save(Output+'valLABS.csv', valLabels)"
   ]
  },
  {
   "cell_type": "code",
   "execution_count": 8,
   "id": "bff5c175",
   "metadata": {
    "scrolled": true
   },
   "outputs": [],
   "source": [
    "modPath = 'C:\\\\Users\\davie\\Desktop\\Final_Project\\FYP\\Processed_Data\\modelReFIT8.h5'\n",
    "model = keras.models.load_model(modPath)"
   ]
  },
  {
   "cell_type": "code",
   "execution_count": 9,
   "id": "7d23181e",
   "metadata": {},
   "outputs": [
    {
     "data": {
      "image/png": "[encoded data removed]",
      "text/plain": [
       "<PIL.Image.Image image mode=RGBA size=785x225 at 0x21FD72F7580>"
      ]
     },
     "execution_count": 9,
     "metadata": {},
     "output_type": "execute_result"
    }
   ],
   "source": [
    "#visualkeras.layered_view(model).show() # display using your system viewer\n",
    "#visualkeras.layered_view(model, to_file='output.png') # write to disk\n",
    "#visualkeras.layered_view(model, to_file='output.png').show() # write and show\n",
    "\n",
    "color_map = defaultdict(dict)\n",
    "color_map[Conv2D]['fill'] = 'yellow'\n",
    "color_map[Dropout]['fill'] = 'red'\n",
    "color_map[MaxPool2D]['fill'] = 'purple'\n",
    "color_map[Dense]['fill'] = 'green'\n",
    "color_map[Flatten]['fill'] = 'gray'\n",
    "\n",
    "font = ImageFont.truetype(\"arial.ttf\", 20) \n",
    "visualkeras.layered_view(model, legend=True, font=font,color_map=color_map)  "
   ]
  },
  {
   "cell_type": "code",
   "execution_count": null,
   "id": "26bbc431",
   "metadata": {},
   "outputs": [],
   "source": []
  },
  {
   "cell_type": "code",
   "execution_count": 10,
   "id": "3c1e7233",
   "metadata": {
    "scrolled": true
   },
   "outputs": [
    {
     "name": "stdout",
     "output_type": "stream",
     "text": [
      "[INFO] evaluating network\n",
      "Validation scores are below \n",
      "\n",
      "accuracy: 86.31%\n"
     ]
    }
   ],
   "source": [
    "print(\"[INFO] evaluating network\")\n",
    "valscores = model.evaluate(valset, valLabels, verbose=0)\n",
    "predictions = model.predict(valset, batch_size=200)\n",
    "print(\"Validation scores are below \\n\")\n",
    "print(\"%s: %.2f%%\" % (model.metrics_names[1], valscores[1]*100))\n"
   ]
  },
  {
   "cell_type": "code",
   "execution_count": 11,
   "id": "d16ce91b",
   "metadata": {},
   "outputs": [
    {
     "name": "stdout",
     "output_type": "stream",
     "text": [
      "                precision    recall  f1-score   support\n",
      "\n",
      "         ABDMJ       0.00      0.00      0.00         0\n",
      "          Agen       0.00      0.00      0.00         0\n",
      "       Allaple       0.81      0.97      0.88       264\n",
      "        Autoit       0.00      0.00      0.00         0\n",
      "        Berbew       0.99      0.71      0.82      4146\n",
      "        Bitman       0.00      0.00      0.00         0\n",
      "        Dinwod       0.98      0.96      0.97       911\n",
      "       Dorkbot       0.56      0.95      0.71       130\n",
      "        Dridex       0.00      0.00      0.00         0\n",
      "        Emotet       0.07      0.55      0.13        44\n",
      "        Fsysna       0.88      0.72      0.79       188\n",
      "      Hematite       0.94      0.93      0.93       670\n",
      "InstallMonster       0.00      0.00      0.00         0\n",
      "        Oberal       0.33      0.97      0.49       101\n",
      "        Picsys       0.94      0.99      0.97       295\n",
      "      Salgorea       0.98      0.93      0.95      1235\n",
      "          Scar       0.16      0.19      0.17        91\n",
      "         Sfone       0.99      0.98      0.99      2719\n",
      "         Shifu       0.00      0.00      0.00         0\n",
      "         Socks       0.79      1.00      0.88        30\n",
      "         Sytro       0.96      0.87      0.91       991\n",
      "        Vilsel       0.93      1.00      0.97        70\n",
      "        Vobfus       0.94      0.98      0.96       931\n",
      "\n",
      "      accuracy                           0.86     12816\n",
      "     macro avg       0.53      0.60      0.54     12816\n",
      "  weighted avg       0.95      0.86      0.90     12816\n",
      "\n"
     ]
    },
    {
     "name": "stderr",
     "output_type": "stream",
     "text": [
      "C:\\Anaconda\\lib\\site-packages\\sklearn\\metrics\\_classification.py:1245: UndefinedMetricWarning: Recall and F-score are ill-defined and being set to 0.0 in labels with no true samples. Use `zero_division` parameter to control this behavior.\n",
      "  _warn_prf(average, modifier, msg_start, len(result))\n",
      "C:\\Anaconda\\lib\\site-packages\\sklearn\\metrics\\_classification.py:1245: UndefinedMetricWarning: Recall and F-score are ill-defined and being set to 0.0 in labels with no true samples. Use `zero_division` parameter to control this behavior.\n",
      "  _warn_prf(average, modifier, msg_start, len(result))\n",
      "C:\\Anaconda\\lib\\site-packages\\sklearn\\metrics\\_classification.py:1245: UndefinedMetricWarning: Recall and F-score are ill-defined and being set to 0.0 in labels with no true samples. Use `zero_division` parameter to control this behavior.\n",
      "  _warn_prf(average, modifier, msg_start, len(result))\n"
     ]
    }
   ],
   "source": [
    "class_names = ['ABDMJ', 'Agen', 'Allaple', 'Autoit', 'Berbew', 'Bitman', 'Dinwod', 'Dorkbot', \n",
    "               'Dridex', 'Emotet', 'Fsysna', 'Hematite', 'InstallMonster', 'Oberal', 'Picsys', \n",
    "               'Salgorea', 'Scar', 'Sfone', 'Shifu', 'Socks', 'Sytro', 'Vilsel', 'Vobfus']\n",
    "print(classification_report(valLabels.argmax(axis=1), predictions.argmax(axis=1), target_names=class_names))\n"
   ]
  },
  {
   "cell_type": "code",
   "execution_count": 31,
   "id": "4a0b3365",
   "metadata": {},
   "outputs": [
    {
     "name": "stdout",
     "output_type": "stream",
     "text": [
      "[[   0    0    0    0    6    0    0    0    0    1    0    0    0    0\n",
      "     0    0    0    0    0    0    0    0    0]\n",
      " [   0    0    0    0   62    0   19    0    0    2   20   35    0    1\n",
      "     0   14    1    1    0    0    4    0    8]\n",
      " [   0    0  255    0    2    0    0    0    0    0    0    0    0    0\n",
      "     0    0    0    2    0    0   54    0    0]\n",
      " [   0    0    0    0   73    0    0    3    0    0    1    0    0    0\n",
      "     0    7    8   11    0    0    4    0    0]\n",
      " [   0    0    0    0 2924    0    0    3    0    0    1    0    0    0\n",
      "     0    6    1   17    0    0    3    0    0]\n",
      " [   0    0    5    0  360    0    1    0    0   10    0    0    0    0\n",
      "     0    4    1    1    0    0    2    0    4]\n",
      " [   0    0    0    0   11    0  877    0    0    1    0    0    0    0\n",
      "     0    0    2    0    0    0    0    0    0]\n",
      " [   0    0    0    0   96    0    0  124    0    0    0    0    0    0\n",
      "     0    0    0    0    0    0    0    0    0]\n",
      " [   0    0    0    0    0    0    0    0    0    0    0    0    0    0\n",
      "     1    0    0    0    0    0    0    0    0]\n",
      " [   0    0    2    0  224    0    8    0    0   24    9    1    0    0\n",
      "     0   54    1    5    0    0    1    0    0]\n",
      " [   0    0    0    0    0    0    0    0    0    2  136    5    0    2\n",
      "     0    0   10    0    0    0    0    0    0]\n",
      " [   0    0    0    0   35    0    3    0    0    0    2  620    0    0\n",
      "     0    0    0    0    0    0    0    0    2]\n",
      " [   0    0    0    0   37    0    0    0    0    0   11    0    0    0\n",
      "     0    0    0    2    0    0    0    0    0]\n",
      " [   0    0    0    0  197    0    0    0    0    0    0    0    0   98\n",
      "     0    0    0    0    0    0    0    0    0]\n",
      " [   0    0    0    0   10    0    0    0    0    0    0    0    0    0\n",
      "   293    0    0    2    0    0    7    0    0]\n",
      " [   0    0    0    0   18    0    0    0    0    0    0    0    0    0\n",
      "     0 1145    0    0    0    0    0    0    0]\n",
      " [   0    0    0    0   26    0    2    0    0    1    0    1    0    0\n",
      "     1    4   17    3    0    0   53    0    0]\n",
      " [   0    0    0    0   21    0    0    0    0    0    0    0    0    0\n",
      "     0    0    0 2670    0    0    0    0    0]\n",
      " [   0    0    0    0    4    0    0    0    0    0    0    0    0    0\n",
      "     0    0    4    0    0    0    0    0    0]\n",
      " [   0    0    0    0    5    0    0    0    0    0    1    0    0    0\n",
      "     0    1    0    1    0   30    0    0    0]\n",
      " [   0    0    2    0   34    0    0    0    0    0    0    0    0    0\n",
      "     0    0    0    4    0    0  863    0    0]\n",
      " [   0    0    0    0    1    0    0    0    0    0    3    0    0    0\n",
      "     0    0    0    0    0    0    0   70    1]\n",
      " [   0    0    0    0    0    0    1    0    0    3    4    8    0    0\n",
      "     0    0   46    0    0    0    0    0  916]]\n"
     ]
    }
   ],
   "source": [
    "print(confusion_matrix(predictions.argmax(axis=1), valLabels.argmax(axis=1)))"
   ]
  },
  {
   "cell_type": "code",
   "execution_count": null,
   "id": "84633f11",
   "metadata": {},
   "outputs": [],
   "source": []
  }
 ],
 "metadata": {
  "kernelspec": {
   "display_name": "myfypenv",
   "language": "python",
   "name": "myfypenv"
  },
  "language_info": {
   "codemirror_mode": {
    "name": "ipython",
    "version": 3
   },
   "file_extension": ".py",
   "mimetype": "text/x-python",
   "name": "python",
   "nbconvert_exporter": "python",
   "pygments_lexer": "ipython3",
   "version": "3.8.8"
  }
 },
 "nbformat": 4,
 "nbformat_minor": 5
}
