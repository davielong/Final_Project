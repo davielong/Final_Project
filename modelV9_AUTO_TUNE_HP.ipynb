{
 "cells": [
  {
   "cell_type": "code",
   "execution_count": 1,
   "id": "f22ee45d",
   "metadata": {},
   "outputs": [],
   "source": [
    "# declare the imports for building our neural network and displaying our data \n",
    "import tensorflow as tf\n",
    "import PIL\n",
    "import os\n",
    "import h5py\n",
    "import sys\n",
    "import numpy as np\n",
    "import pandas as pd\n",
    "import random\n",
    "import csv\n",
    "import cv2\n",
    "import fnmatch\n",
    "import kerastuner as kt\n",
    "import matplotlib.pyplot as plt \n",
    "from shutil import copyfile\n",
    "from sklearn.model_selection import train_test_split\n",
    "from numpy import asarray\n",
    "from numpy import savetxt\n",
    "from PIL import Image\n",
    "from tensorflow import keras\n",
    "from tensorflow.keras import layers\n",
    "from keras.models import Sequential\n",
    "from keras.layers import Dense, Dropout, Conv2D, MaxPool2D, Flatten, Activation, BatchNormalization\n",
    "from keras.utils import np_utils\n",
    "from matplotlib import image\n",
    "from os import listdir\n",
    "from sklearn.metrics import classification_report\n",
    "from keras import optimizers\n",
    "from kerastuner import RandomSearch\n",
    "\n",
    "\n",
    "# set the input and outpout Dirs\n",
    "data_dir = 'C:\\\\Users\\davie\\Desktop\\Final_Project\\FYP\\HCurve'\n",
    "Output = 'C:\\\\Users\\davie\\Desktop\\Final_Project\\FYP\\Processed_Data\\\\'"
   ]
  },
  {
   "cell_type": "code",
   "execution_count": 2,
   "id": "ce45bbf9",
   "metadata": {},
   "outputs": [
    {
     "name": "stdout",
     "output_type": "stream",
     "text": [
      "(9818, 32, 32, 3)\n",
      "(3273, 32, 32, 3)\n",
      "(9818,)\n",
      "(3273,)\n"
     ]
    }
   ],
   "source": [
    "# load and examine the shape of the data \n",
    "X_train = np.load(Output+'xtrain32x32.npy')\n",
    "Y_train = np.load(Output+'ytrain32x32.npy')\n",
    "X_test = np.load(Output+'xtest32x32.npy')\n",
    "Y_test = np.load(Output+'ytest32x32.npy')\n",
    "print(X_train.shape)\n",
    "print(X_test.shape)\n",
    "print(Y_train.shape)\n",
    "print(Y_test.shape)"
   ]
  },
  {
   "cell_type": "code",
   "execution_count": 3,
   "id": "af62bac5",
   "metadata": {},
   "outputs": [],
   "source": [
    "# building the input vector from the 256x256 pixels\n",
    "X_train = X_train.astype('float32')\n",
    "X_test = X_test.astype('float32')\n",
    "# normalizing the data to help with the training\n",
    "X_train /= 255\n",
    "X_test /= 255"
   ]
  },
  {
   "cell_type": "code",
   "execution_count": 4,
   "id": "e42926de",
   "metadata": {},
   "outputs": [
    {
     "name": "stdout",
     "output_type": "stream",
     "text": [
      "Shape before one-hot encoding:  (9818,)\n",
      "Shape after one-hot encoding:  (9818, 23)\n"
     ]
    }
   ],
   "source": [
    "# one-hot encoding using keras\n",
    "n_classes = 23\n",
    "class_names = ['ABDMJ', 'Agen', 'Allaple', 'Autoit', 'Berbew', 'Bitman', 'Dinwod', 'Dorkbot', \n",
    "               'Dridex', 'Emotet', 'Fsysna', 'Hematite', 'InstallMonster', 'Oberal', 'Picsys', \n",
    "               'Salgorea', 'Scar', 'Sfone', 'Shifu', 'Socks', 'Sytro', 'Vilsel', 'Vobfus']\n",
    "print(\"Shape before one-hot encoding: \", Y_train.shape)\n",
    "Y_train = np_utils.to_categorical(Y_train, n_classes)\n",
    "Y_test = np_utils.to_categorical(Y_test, n_classes)\n",
    "print(\"Shape after one-hot encoding: \", Y_train.shape)"
   ]
  },
  {
   "cell_type": "code",
   "execution_count": 5,
   "id": "d18ef7ca",
   "metadata": {},
   "outputs": [
    {
     "name": "stdout",
     "output_type": "stream",
     "text": [
      "(9818, 32, 32, 3)\n",
      "(3273, 32, 32, 3)\n",
      "(9818, 23)\n",
      "(3273, 23)\n"
     ]
    }
   ],
   "source": [
    "print(X_train.shape)\n",
    "print(X_test.shape)\n",
    "print(Y_train.shape)\n",
    "print(Y_test.shape)"
   ]
  },
  {
   "cell_type": "code",
   "execution_count": 9,
   "id": "ae50951e",
   "metadata": {},
   "outputs": [],
   "source": [
    "def build_model(hp):\n",
    "    model = keras.Sequential()\n",
    "    model.add(layers.Flatten())\n",
    "    for i in range(hp.Int(\"num_layers\", 2, 20)):\n",
    "        model.add(\n",
    "            layers.Dense(\n",
    "                units=hp.Int(\"units_\" + str(i), min_value=32, max_value=512, step=32),\n",
    "                activation=\"relu\",\n",
    "            )\n",
    "        )\n",
    "    model.add(layers.Dense(23, activation=\"softmax\"))\n",
    "    model.compile(\n",
    "        optimizer=keras.optimizers.Adam(hp.Choice(\"learning_rate\", [1e-2, 1e-3, 1e-4])),\n",
    "        loss=\"categorical_crossentropy\",\n",
    "        metrics=[\"accuracy\"],\n",
    "    )\n",
    "    return model"
   ]
  },
  {
   "cell_type": "code",
   "execution_count": 33,
   "id": "8d1d5cc2",
   "metadata": {},
   "outputs": [],
   "source": [
    "tuner = RandomSearch(build_model,objective=\"accuracy\",max_trials=5,executions_per_trial=3,\n",
    "                     overwrite=True,directory=Output,project_name=\"modelV9\",)"
   ]
  },
  {
   "cell_type": "code",
   "execution_count": 34,
   "id": "a02c0758",
   "metadata": {},
   "outputs": [
    {
     "name": "stdout",
     "output_type": "stream",
     "text": [
      "Search space summary\n",
      "Default search space size: 4\n",
      "num_layers (Int)\n",
      "{'default': None, 'conditions': [], 'min_value': 2, 'max_value': 20, 'step': 1, 'sampling': None}\n",
      "units_0 (Int)\n",
      "{'default': None, 'conditions': [], 'min_value': 32, 'max_value': 512, 'step': 32, 'sampling': None}\n",
      "units_1 (Int)\n",
      "{'default': None, 'conditions': [], 'min_value': 32, 'max_value': 512, 'step': 32, 'sampling': None}\n",
      "learning_rate (Choice)\n",
      "{'default': 0.01, 'conditions': [], 'values': [0.01, 0.001, 0.0001], 'ordered': True}\n"
     ]
    }
   ],
   "source": [
    "tuner.search_space_summary()"
   ]
  },
  {
   "cell_type": "code",
   "execution_count": null,
   "id": "79620562",
   "metadata": {},
   "outputs": [],
   "source": []
  },
  {
   "cell_type": "code",
   "execution_count": 35,
   "id": "19b5af25",
   "metadata": {
    "scrolled": false
   },
   "outputs": [
    {
     "name": "stdout",
     "output_type": "stream",
     "text": [
      "Trial 5 Complete [00h 23m 48s]\n",
      "accuracy: 0.9487675825754801\n",
      "\n",
      "Best accuracy So Far: 0.9487675825754801\n",
      "Total elapsed time: 01h 28m 37s\n",
      "INFO:tensorflow:Oracle triggered exit\n"
     ]
    }
   ],
   "source": [
    "tuner.search(X_train, Y_train, epochs=20, validation_data=(X_test, Y_test))"
   ]
  },
  {
   "cell_type": "code",
   "execution_count": 36,
   "id": "8a5644b4",
   "metadata": {},
   "outputs": [
    {
     "name": "stdout",
     "output_type": "stream",
     "text": [
      "WARNING:tensorflow:Unresolved object in checkpoint: (root).layer_with_weights-0.kernel\n",
      "WARNING:tensorflow:Unresolved object in checkpoint: (root).layer_with_weights-0.bias\n",
      "WARNING:tensorflow:Unresolved object in checkpoint: (root).layer_with_weights-1.kernel\n",
      "WARNING:tensorflow:Unresolved object in checkpoint: (root).layer_with_weights-1.bias\n",
      "WARNING:tensorflow:Unresolved object in checkpoint: (root).layer_with_weights-2.kernel\n",
      "WARNING:tensorflow:Unresolved object in checkpoint: (root).layer_with_weights-2.bias\n",
      "WARNING:tensorflow:Unresolved object in checkpoint: (root).layer_with_weights-3.kernel\n",
      "WARNING:tensorflow:Unresolved object in checkpoint: (root).layer_with_weights-3.bias\n",
      "WARNING:tensorflow:Unresolved object in checkpoint: (root).layer_with_weights-4.kernel\n",
      "WARNING:tensorflow:Unresolved object in checkpoint: (root).layer_with_weights-4.bias\n",
      "WARNING:tensorflow:Unresolved object in checkpoint: (root).layer_with_weights-5.kernel\n",
      "WARNING:tensorflow:Unresolved object in checkpoint: (root).layer_with_weights-5.bias\n",
      "WARNING:tensorflow:Unresolved object in checkpoint: (root).optimizer.iter\n",
      "WARNING:tensorflow:Unresolved object in checkpoint: (root).optimizer.beta_1\n",
      "WARNING:tensorflow:Unresolved object in checkpoint: (root).optimizer.beta_2\n",
      "WARNING:tensorflow:Unresolved object in checkpoint: (root).optimizer.decay\n",
      "WARNING:tensorflow:Unresolved object in checkpoint: (root).optimizer.learning_rate\n",
      "WARNING:tensorflow:Unresolved object in checkpoint: (root).optimizer's state 'm' for (root).layer_with_weights-0.kernel\n",
      "WARNING:tensorflow:Unresolved object in checkpoint: (root).optimizer's state 'm' for (root).layer_with_weights-0.bias\n",
      "WARNING:tensorflow:Unresolved object in checkpoint: (root).optimizer's state 'm' for (root).layer_with_weights-1.kernel\n",
      "WARNING:tensorflow:Unresolved object in checkpoint: (root).optimizer's state 'm' for (root).layer_with_weights-1.bias\n",
      "WARNING:tensorflow:Unresolved object in checkpoint: (root).optimizer's state 'm' for (root).layer_with_weights-2.kernel\n",
      "WARNING:tensorflow:Unresolved object in checkpoint: (root).optimizer's state 'm' for (root).layer_with_weights-2.bias\n",
      "WARNING:tensorflow:Unresolved object in checkpoint: (root).optimizer's state 'm' for (root).layer_with_weights-3.kernel\n",
      "WARNING:tensorflow:Unresolved object in checkpoint: (root).optimizer's state 'm' for (root).layer_with_weights-3.bias\n",
      "WARNING:tensorflow:Unresolved object in checkpoint: (root).optimizer's state 'm' for (root).layer_with_weights-4.kernel\n",
      "WARNING:tensorflow:Unresolved object in checkpoint: (root).optimizer's state 'm' for (root).layer_with_weights-4.bias\n",
      "WARNING:tensorflow:Unresolved object in checkpoint: (root).optimizer's state 'm' for (root).layer_with_weights-5.kernel\n",
      "WARNING:tensorflow:Unresolved object in checkpoint: (root).optimizer's state 'm' for (root).layer_with_weights-5.bias\n",
      "WARNING:tensorflow:Unresolved object in checkpoint: (root).optimizer's state 'v' for (root).layer_with_weights-0.kernel\n",
      "WARNING:tensorflow:Unresolved object in checkpoint: (root).optimizer's state 'v' for (root).layer_with_weights-0.bias\n",
      "WARNING:tensorflow:Unresolved object in checkpoint: (root).optimizer's state 'v' for (root).layer_with_weights-1.kernel\n",
      "WARNING:tensorflow:Unresolved object in checkpoint: (root).optimizer's state 'v' for (root).layer_with_weights-1.bias\n",
      "WARNING:tensorflow:Unresolved object in checkpoint: (root).optimizer's state 'v' for (root).layer_with_weights-2.kernel\n",
      "WARNING:tensorflow:Unresolved object in checkpoint: (root).optimizer's state 'v' for (root).layer_with_weights-2.bias\n",
      "WARNING:tensorflow:Unresolved object in checkpoint: (root).optimizer's state 'v' for (root).layer_with_weights-3.kernel\n",
      "WARNING:tensorflow:Unresolved object in checkpoint: (root).optimizer's state 'v' for (root).layer_with_weights-3.bias\n",
      "WARNING:tensorflow:Unresolved object in checkpoint: (root).optimizer's state 'v' for (root).layer_with_weights-4.kernel\n",
      "WARNING:tensorflow:Unresolved object in checkpoint: (root).optimizer's state 'v' for (root).layer_with_weights-4.bias\n",
      "WARNING:tensorflow:Unresolved object in checkpoint: (root).optimizer's state 'v' for (root).layer_with_weights-5.kernel\n",
      "WARNING:tensorflow:Unresolved object in checkpoint: (root).optimizer's state 'v' for (root).layer_with_weights-5.bias\n",
      "WARNING:tensorflow:A checkpoint was restored (e.g. tf.train.Checkpoint.restore or tf.keras.Model.load_weights) but not all checkpointed values were used. See above for specific issues. Use expect_partial() on the load status object, e.g. tf.train.Checkpoint.restore(...).expect_partial(), to silence these warnings, or use assert_consumed() to make the check explicit. See https://www.tensorflow.org/guide/checkpoint#loading_mechanics for details.\n"
     ]
    }
   ],
   "source": [
    "best_model = tuner.get_best_models(1)[0]"
   ]
  },
  {
   "cell_type": "code",
   "execution_count": 37,
   "id": "024fdb8f",
   "metadata": {},
   "outputs": [],
   "source": [
    "best_hps = tuner.get_best_hyperparameters(1)[0]"
   ]
  },
  {
   "cell_type": "code",
   "execution_count": 38,
   "id": "b4dd33ac",
   "metadata": {},
   "outputs": [
    {
     "name": "stdout",
     "output_type": "stream",
     "text": [
      "Results summary\n",
      "Results in C:\\Users\\davie\\Desktop\\Final_Project\\FYP\\Processed_Data\\modelV9\n",
      "Showing 10 best trials\n",
      "Objective(name='accuracy', direction='max')\n",
      "Trial summary\n",
      "Hyperparameters:\n",
      "num_layers: 9\n",
      "units_0: 480\n",
      "units_1: 352\n",
      "learning_rate: 0.0001\n",
      "units_2: 512\n",
      "units_3: 64\n",
      "units_4: 192\n",
      "units_5: 64\n",
      "units_6: 160\n",
      "units_7: 320\n",
      "units_8: 512\n",
      "units_9: 192\n",
      "units_10: 480\n",
      "units_11: 192\n",
      "units_12: 320\n",
      "units_13: 160\n",
      "units_14: 96\n",
      "units_15: 288\n",
      "units_16: 224\n",
      "units_17: 512\n",
      "units_18: 192\n",
      "Score: 0.9487675825754801\n",
      "Trial summary\n",
      "Hyperparameters:\n",
      "num_layers: 8\n",
      "units_0: 96\n",
      "units_1: 64\n",
      "learning_rate: 0.001\n",
      "units_2: 192\n",
      "units_3: 320\n",
      "units_4: 256\n",
      "units_5: 256\n",
      "units_6: 96\n",
      "units_7: 96\n",
      "units_8: 320\n",
      "units_9: 352\n",
      "units_10: 192\n",
      "units_11: 448\n",
      "units_12: 384\n",
      "units_13: 320\n",
      "units_14: 32\n",
      "units_15: 288\n",
      "units_16: 320\n",
      "units_17: 32\n",
      "units_18: 32\n",
      "Score: 0.9210294087727865\n",
      "Trial summary\n",
      "Hyperparameters:\n",
      "num_layers: 19\n",
      "units_0: 192\n",
      "units_1: 352\n",
      "learning_rate: 0.01\n",
      "units_2: 32\n",
      "units_3: 32\n",
      "units_4: 32\n",
      "units_5: 32\n",
      "units_6: 32\n",
      "units_7: 32\n",
      "units_8: 32\n",
      "units_9: 32\n",
      "units_10: 32\n",
      "units_11: 32\n",
      "units_12: 32\n",
      "units_13: 32\n",
      "units_14: 32\n",
      "units_15: 32\n",
      "units_16: 32\n",
      "units_17: 32\n",
      "units_18: 32\n",
      "Score: 0.24180076768000922\n",
      "Trial summary\n",
      "Hyperparameters:\n",
      "num_layers: 14\n",
      "units_0: 160\n",
      "units_1: 64\n",
      "learning_rate: 0.01\n",
      "units_2: 64\n",
      "units_3: 160\n",
      "units_4: 64\n",
      "units_5: 320\n",
      "units_6: 480\n",
      "units_7: 320\n",
      "units_8: 96\n",
      "units_9: 160\n",
      "units_10: 96\n",
      "units_11: 224\n",
      "units_12: 64\n",
      "units_13: 128\n",
      "units_14: 448\n",
      "units_15: 224\n",
      "units_16: 384\n",
      "units_17: 224\n",
      "units_18: 64\n",
      "Score: 0.08817138771216075\n",
      "Trial summary\n",
      "Hyperparameters:\n",
      "num_layers: 19\n",
      "units_0: 480\n",
      "units_1: 256\n",
      "learning_rate: 0.01\n",
      "units_2: 224\n",
      "units_3: 64\n",
      "units_4: 480\n",
      "units_5: 96\n",
      "units_6: 96\n",
      "units_7: 192\n",
      "units_8: 448\n",
      "units_9: 288\n",
      "units_10: 512\n",
      "units_11: 512\n",
      "units_12: 96\n",
      "units_13: 64\n",
      "units_14: 512\n",
      "units_15: 288\n",
      "units_16: 288\n",
      "units_17: 416\n",
      "units_18: 352\n",
      "Score: 0.0881374329328537\n"
     ]
    }
   ],
   "source": [
    "tuner.results_summary()"
   ]
  },
  {
   "cell_type": "code",
   "execution_count": null,
   "id": "468beda6",
   "metadata": {},
   "outputs": [],
   "source": []
  },
  {
   "cell_type": "code",
   "execution_count": null,
   "id": "7a6a0df1",
   "metadata": {},
   "outputs": [],
   "source": []
  },
  {
   "cell_type": "code",
   "execution_count": 39,
   "id": "e69b58e5",
   "metadata": {},
   "outputs": [
    {
     "name": "stdout",
     "output_type": "stream",
     "text": [
      "Epoch 1/50\n",
      "246/246 [==============================] - 26s 91ms/step - loss: 2.4021 - accuracy: 0.2765 - val_loss: 1.8173 - val_accuracy: 0.4695\n",
      "Epoch 2/50\n",
      "246/246 [==============================] - 21s 84ms/step - loss: 1.5442 - accuracy: 0.5246 - val_loss: 1.4665 - val_accuracy: 0.5402\n",
      "Epoch 3/50\n",
      "246/246 [==============================] - 20s 83ms/step - loss: 1.1310 - accuracy: 0.6529 - val_loss: 0.9857 - val_accuracy: 0.7118\n",
      "Epoch 4/50\n",
      "246/246 [==============================] - 21s 85ms/step - loss: 0.9128 - accuracy: 0.7264 - val_loss: 0.8974 - val_accuracy: 0.7495\n",
      "Epoch 5/50\n",
      "246/246 [==============================] - 21s 85ms/step - loss: 0.7955 - accuracy: 0.7602 - val_loss: 0.7743 - val_accuracy: 0.8055\n",
      "Epoch 6/50\n",
      "246/246 [==============================] - 21s 85ms/step - loss: 0.6600 - accuracy: 0.8122 - val_loss: 0.7247 - val_accuracy: 0.8070\n",
      "Epoch 7/50\n",
      "246/246 [==============================] - 21s 86ms/step - loss: 0.6195 - accuracy: 0.8212 - val_loss: 0.6625 - val_accuracy: 0.8116\n",
      "Epoch 8/50\n",
      "246/246 [==============================] - 21s 85ms/step - loss: 0.5320 - accuracy: 0.8475 - val_loss: 0.5585 - val_accuracy: 0.8437\n",
      "Epoch 9/50\n",
      "246/246 [==============================] - 21s 86ms/step - loss: 0.4612 - accuracy: 0.8732 - val_loss: 0.5487 - val_accuracy: 0.8411\n",
      "Epoch 10/50\n",
      "246/246 [==============================] - 21s 85ms/step - loss: 0.4238 - accuracy: 0.8782 - val_loss: 0.5411 - val_accuracy: 0.8478\n",
      "Epoch 11/50\n",
      "246/246 [==============================] - 21s 85ms/step - loss: 0.3882 - accuracy: 0.8922 - val_loss: 0.4512 - val_accuracy: 0.8783\n",
      "Epoch 12/50\n",
      "246/246 [==============================] - 21s 85ms/step - loss: 0.3915 - accuracy: 0.8908 - val_loss: 0.4126 - val_accuracy: 0.8926\n",
      "Epoch 13/50\n",
      "246/246 [==============================] - 22s 90ms/step - loss: 0.3537 - accuracy: 0.8998 - val_loss: 0.4378 - val_accuracy: 0.8865\n",
      "Epoch 14/50\n",
      "246/246 [==============================] - 21s 86ms/step - loss: 0.3295 - accuracy: 0.9037 - val_loss: 0.4620 - val_accuracy: 0.8854\n",
      "Epoch 15/50\n",
      "246/246 [==============================] - 21s 86ms/step - loss: 0.3213 - accuracy: 0.9048 - val_loss: 0.5087 - val_accuracy: 0.8615\n",
      "Epoch 16/50\n",
      "246/246 [==============================] - 23s 92ms/step - loss: 0.3080 - accuracy: 0.9077 - val_loss: 0.3764 - val_accuracy: 0.9022\n",
      "Epoch 17/50\n",
      "246/246 [==============================] - 21s 86ms/step - loss: 0.2712 - accuracy: 0.9155 - val_loss: 0.6857 - val_accuracy: 0.8024\n",
      "Epoch 18/50\n",
      "246/246 [==============================] - 21s 87ms/step - loss: 0.2492 - accuracy: 0.9250 - val_loss: 0.7317 - val_accuracy: 0.8009\n",
      "Epoch 19/50\n",
      "246/246 [==============================] - 22s 89ms/step - loss: 0.2553 - accuracy: 0.9227 - val_loss: 0.6530 - val_accuracy: 0.8075\n",
      "Epoch 20/50\n",
      "246/246 [==============================] - 22s 88ms/step - loss: 0.2664 - accuracy: 0.9199 - val_loss: 0.3362 - val_accuracy: 0.9145\n",
      "Epoch 21/50\n",
      "246/246 [==============================] - 21s 86ms/step - loss: 0.2301 - accuracy: 0.9316 - val_loss: 0.3260 - val_accuracy: 0.9160\n",
      "Epoch 22/50\n",
      "246/246 [==============================] - 21s 86ms/step - loss: 0.2060 - accuracy: 0.9376 - val_loss: 0.3934 - val_accuracy: 0.9114\n",
      "Epoch 23/50\n",
      "246/246 [==============================] - 21s 85ms/step - loss: 0.2242 - accuracy: 0.9337 - val_loss: 0.3069 - val_accuracy: 0.9369\n",
      "Epoch 24/50\n",
      "246/246 [==============================] - 21s 85ms/step - loss: 0.2229 - accuracy: 0.9330 - val_loss: 0.3101 - val_accuracy: 0.9338\n",
      "Epoch 25/50\n",
      "246/246 [==============================] - 21s 86ms/step - loss: 0.2418 - accuracy: 0.9281 - val_loss: 0.3032 - val_accuracy: 0.9297\n",
      "Epoch 26/50\n",
      "246/246 [==============================] - 24s 99ms/step - loss: 0.1590 - accuracy: 0.9511 - val_loss: 0.3981 - val_accuracy: 0.9078\n",
      "Epoch 27/50\n",
      "246/246 [==============================] - 22s 90ms/step - loss: 0.1724 - accuracy: 0.9487 - val_loss: 0.3213 - val_accuracy: 0.9333\n",
      "Epoch 28/50\n",
      "246/246 [==============================] - 19s 79ms/step - loss: 0.1868 - accuracy: 0.9446 - val_loss: 0.3277 - val_accuracy: 0.9246\n",
      "Epoch 29/50\n",
      "246/246 [==============================] - 18s 75ms/step - loss: 0.1758 - accuracy: 0.9486 - val_loss: 0.2810 - val_accuracy: 0.9338\n",
      "Epoch 30/50\n",
      "246/246 [==============================] - 21s 85ms/step - loss: 0.1656 - accuracy: 0.9512 - val_loss: 0.3182 - val_accuracy: 0.9252\n",
      "Epoch 31/50\n",
      "246/246 [==============================] - 21s 85ms/step - loss: 0.1488 - accuracy: 0.9538 - val_loss: 0.3044 - val_accuracy: 0.9379\n",
      "Epoch 32/50\n",
      "246/246 [==============================] - 21s 85ms/step - loss: 0.1671 - accuracy: 0.9492 - val_loss: 0.4739 - val_accuracy: 0.8788\n",
      "Epoch 33/50\n",
      "246/246 [==============================] - 21s 85ms/step - loss: 0.1453 - accuracy: 0.9558 - val_loss: 0.5536 - val_accuracy: 0.8809\n",
      "Epoch 34/50\n",
      "246/246 [==============================] - 22s 88ms/step - loss: 0.1451 - accuracy: 0.9587 - val_loss: 0.3498 - val_accuracy: 0.9343\n",
      "Epoch 35/50\n",
      "246/246 [==============================] - 21s 86ms/step - loss: 0.1547 - accuracy: 0.9533 - val_loss: 0.4557 - val_accuracy: 0.8966\n",
      "Epoch 36/50\n",
      "246/246 [==============================] - 20s 80ms/step - loss: 0.1233 - accuracy: 0.9631 - val_loss: 0.3213 - val_accuracy: 0.9369\n",
      "Epoch 37/50\n",
      "246/246 [==============================] - 20s 79ms/step - loss: 0.1493 - accuracy: 0.9552 - val_loss: 0.4410 - val_accuracy: 0.8977\n",
      "Epoch 38/50\n",
      "246/246 [==============================] - 20s 82ms/step - loss: 0.1614 - accuracy: 0.9511 - val_loss: 0.4190 - val_accuracy: 0.9012\n",
      "Epoch 39/50\n",
      "246/246 [==============================] - 20s 81ms/step - loss: 0.1295 - accuracy: 0.9598 - val_loss: 0.4037 - val_accuracy: 0.9140\n",
      "Epoch 40/50\n",
      "246/246 [==============================] - 20s 81ms/step - loss: 0.1215 - accuracy: 0.9631 - val_loss: 0.2815 - val_accuracy: 0.9496\n",
      "Epoch 41/50\n",
      "246/246 [==============================] - 20s 80ms/step - loss: 0.1341 - accuracy: 0.9594 - val_loss: 0.3644 - val_accuracy: 0.9099\n",
      "Epoch 42/50\n",
      "246/246 [==============================] - 20s 81ms/step - loss: 0.1332 - accuracy: 0.9590 - val_loss: 0.4985 - val_accuracy: 0.8630\n",
      "Epoch 43/50\n",
      "246/246 [==============================] - 20s 80ms/step - loss: 0.1134 - accuracy: 0.9652 - val_loss: 0.3545 - val_accuracy: 0.9358\n",
      "Epoch 44/50\n",
      "246/246 [==============================] - 20s 81ms/step - loss: 0.1211 - accuracy: 0.9627 - val_loss: 0.3665 - val_accuracy: 0.9257\n",
      "Epoch 45/50\n",
      "246/246 [==============================] - 20s 80ms/step - loss: 0.1142 - accuracy: 0.9643 - val_loss: 0.2918 - val_accuracy: 0.9455\n",
      "Epoch 46/50\n",
      "246/246 [==============================] - 20s 82ms/step - loss: 0.1107 - accuracy: 0.9672 - val_loss: 0.2711 - val_accuracy: 0.9526\n",
      "Epoch 47/50\n",
      "246/246 [==============================] - 20s 80ms/step - loss: 0.0983 - accuracy: 0.9710 - val_loss: 0.3884 - val_accuracy: 0.9185\n",
      "Epoch 48/50\n",
      "246/246 [==============================] - 20s 82ms/step - loss: 0.1221 - accuracy: 0.9618 - val_loss: 0.3483 - val_accuracy: 0.9364\n",
      "Epoch 49/50\n",
      "246/246 [==============================] - 21s 84ms/step - loss: 0.1104 - accuracy: 0.9677 - val_loss: 0.2972 - val_accuracy: 0.9501\n",
      "Epoch 50/50\n",
      "246/246 [==============================] - 20s 82ms/step - loss: 0.0826 - accuracy: 0.9771 - val_loss: 0.3355 - val_accuracy: 0.9297\n",
      "Best epoch: 46\n"
     ]
    }
   ],
   "source": [
    "# Build the model with the optimal hyperparameters and train it on the data for 50 epochs\n",
    "model = tuner.hypermodel.build(best_hps)\n",
    "history = model.fit(X_train, Y_train, epochs=50, validation_split=0.2)\n",
    "\n",
    "val_acc_per_epoch = history.history['val_accuracy']\n",
    "best_epoch = val_acc_per_epoch.index(max(val_acc_per_epoch)) + 1\n",
    "print('Best epoch: %d' % (best_epoch,))"
   ]
  },
  {
   "cell_type": "code",
   "execution_count": 40,
   "id": "9a89e949",
   "metadata": {},
   "outputs": [
    {
     "name": "stdout",
     "output_type": "stream",
     "text": [
      "Epoch 1/46\n",
      "307/307 [==============================] - 24s 78ms/step - loss: 0.1567 - accuracy: 0.9594\n",
      "Epoch 2/46\n",
      "307/307 [==============================] - 24s 77ms/step - loss: 0.1293 - accuracy: 0.9647\n",
      "Epoch 3/46\n",
      "307/307 [==============================] - 24s 77ms/step - loss: 0.1387 - accuracy: 0.96170s - loss:\n",
      "Epoch 4/46\n",
      "307/307 [==============================] - 23s 76ms/step - loss: 0.1181 - accuracy: 0.9645\n",
      "Epoch 5/46\n",
      "307/307 [==============================] - 24s 77ms/step - loss: 0.0938 - accuracy: 0.9733\n",
      "Epoch 6/46\n",
      "307/307 [==============================] - 24s 78ms/step - loss: 0.1087 - accuracy: 0.9689\n",
      "Epoch 7/46\n",
      "307/307 [==============================] - 24s 79ms/step - loss: 0.0946 - accuracy: 0.9717\n",
      "Epoch 8/46\n",
      "307/307 [==============================] - 24s 77ms/step - loss: 0.1255 - accuracy: 0.9617\n",
      "Epoch 9/46\n",
      "307/307 [==============================] - 24s 79ms/step - loss: 0.0898 - accuracy: 0.9746\n",
      "Epoch 10/46\n",
      "307/307 [==============================] - 24s 77ms/step - loss: 0.0974 - accuracy: 0.9707\n",
      "Epoch 11/46\n",
      "307/307 [==============================] - 24s 79ms/step - loss: 0.0950 - accuracy: 0.9718\n",
      "Epoch 12/46\n",
      "307/307 [==============================] - 24s 78ms/step - loss: 0.1239 - accuracy: 0.9634\n",
      "Epoch 13/46\n",
      "307/307 [==============================] - 24s 77ms/step - loss: 0.0697 - accuracy: 0.9796\n",
      "Epoch 14/46\n",
      "307/307 [==============================] - 24s 77ms/step - loss: 0.0892 - accuracy: 0.9736\n",
      "Epoch 15/46\n",
      "307/307 [==============================] - 24s 77ms/step - loss: 0.0670 - accuracy: 0.9792\n",
      "Epoch 16/46\n",
      "307/307 [==============================] - 24s 78ms/step - loss: 0.1010 - accuracy: 0.9709\n",
      "Epoch 17/46\n",
      "307/307 [==============================] - 24s 78ms/step - loss: 0.0786 - accuracy: 0.97561s - loss: 0.0799 - accuracy:  - ETA: \n",
      "Epoch 18/46\n",
      "307/307 [==============================] - 24s 77ms/step - loss: 0.1051 - accuracy: 0.9678\n",
      "Epoch 19/46\n",
      "307/307 [==============================] - 24s 79ms/step - loss: 0.0823 - accuracy: 0.9749\n",
      "Epoch 20/46\n",
      "307/307 [==============================] - 24s 78ms/step - loss: 0.0761 - accuracy: 0.9764\n",
      "Epoch 21/46\n",
      "307/307 [==============================] - 24s 79ms/step - loss: 0.0757 - accuracy: 0.9767\n",
      "Epoch 22/46\n",
      "307/307 [==============================] - 24s 77ms/step - loss: 0.0955 - accuracy: 0.9713\n",
      "Epoch 23/46\n",
      "307/307 [==============================] - 24s 79ms/step - loss: 0.0688 - accuracy: 0.9788\n",
      "Epoch 24/46\n",
      "307/307 [==============================] - 24s 77ms/step - loss: 0.0588 - accuracy: 0.9822\n",
      "Epoch 25/46\n",
      "307/307 [==============================] - 24s 77ms/step - loss: 0.1092 - accuracy: 0.9680\n",
      "Epoch 26/46\n",
      "307/307 [==============================] - 24s 78ms/step - loss: 0.0758 - accuracy: 0.9782\n",
      "Epoch 27/46\n",
      "307/307 [==============================] - 23s 76ms/step - loss: 0.0682 - accuracy: 0.9806\n",
      "Epoch 28/46\n",
      "307/307 [==============================] - 25s 81ms/step - loss: 0.0539 - accuracy: 0.9833\n",
      "Epoch 29/46\n",
      "307/307 [==============================] - 24s 78ms/step - loss: 0.0604 - accuracy: 0.9815\n",
      "Epoch 30/46\n",
      "307/307 [==============================] - 24s 76ms/step - loss: 0.0541 - accuracy: 0.9832\n",
      "Epoch 31/46\n",
      "307/307 [==============================] - 24s 79ms/step - loss: 0.1040 - accuracy: 0.97020s - loss: 0.1044 - accuracy\n",
      "Epoch 32/46\n",
      "307/307 [==============================] - 24s 79ms/step - loss: 0.0726 - accuracy: 0.9776\n",
      "Epoch 33/46\n",
      "307/307 [==============================] - 24s 78ms/step - loss: 0.0561 - accuracy: 0.9829\n",
      "Epoch 34/46\n",
      "307/307 [==============================] - 24s 79ms/step - loss: 0.0786 - accuracy: 0.9747\n",
      "Epoch 35/46\n",
      "307/307 [==============================] - 24s 78ms/step - loss: 0.0676 - accuracy: 0.9785\n",
      "Epoch 36/46\n",
      "307/307 [==============================] - 24s 78ms/step - loss: 0.0607 - accuracy: 0.9810\n",
      "Epoch 37/46\n",
      "307/307 [==============================] - 24s 78ms/step - loss: 0.0885 - accuracy: 0.9739\n",
      "Epoch 38/46\n",
      "307/307 [==============================] - 24s 78ms/step - loss: 0.0437 - accuracy: 0.9869\n",
      "Epoch 39/46\n",
      "307/307 [==============================] - 24s 79ms/step - loss: 0.0661 - accuracy: 0.9778\n",
      "Epoch 40/46\n",
      "307/307 [==============================] - 24s 77ms/step - loss: 0.0599 - accuracy: 0.9814\n",
      "Epoch 41/46\n",
      "307/307 [==============================] - 25s 82ms/step - loss: 0.0334 - accuracy: 0.9895\n",
      "Epoch 42/46\n",
      "307/307 [==============================] - 24s 79ms/step - loss: 0.0583 - accuracy: 0.9816\n",
      "Epoch 43/46\n",
      "307/307 [==============================] - 24s 79ms/step - loss: 0.0815 - accuracy: 0.9733\n",
      "Epoch 44/46\n",
      "307/307 [==============================] - 25s 81ms/step - loss: 0.0563 - accuracy: 0.9830\n",
      "Epoch 45/46\n",
      "307/307 [==============================] - 24s 78ms/step - loss: 0.0399 - accuracy: 0.9869\n",
      "Epoch 46/46\n",
      "307/307 [==============================] - 24s 79ms/step - loss: 0.0570 - accuracy: 0.9825\n"
     ]
    },
    {
     "data": {
      "text/plain": [
       "<tensorflow.python.keras.callbacks.History at 0x22dc6ccdca0>"
      ]
     },
     "execution_count": 40,
     "metadata": {},
     "output_type": "execute_result"
    }
   ],
   "source": [
    "model.fit(X_train, Y_train, epochs=best_epoch)"
   ]
  },
  {
   "cell_type": "code",
   "execution_count": null,
   "id": "4c61b8a1",
   "metadata": {},
   "outputs": [],
   "source": []
  },
  {
   "cell_type": "code",
   "execution_count": 41,
   "id": "3c1e7233",
   "metadata": {
    "scrolled": true
   },
   "outputs": [
    {
     "name": "stdout",
     "output_type": "stream",
     "text": [
      "[INFO] evaluating network\n",
      "training scores are below \n",
      "\n",
      "accuracy: 98.93%\n",
      "testing scores are below \n",
      "\n",
      "accuracy: 95.23%\n"
     ]
    }
   ],
   "source": [
    "# evaluate the model and print the score to screen \n",
    "trainingscores = model.evaluate(X_train, Y_train, verbose=0)\n",
    "testingscores = model.evaluate(X_test, Y_test, verbose=0)\n",
    "print(\"[INFO] evaluating network\")\n",
    "predictions = model.predict(X_test, batch_size=100)\n",
    "print(\"training scores are below \\n\")\n",
    "print(\"%s: %.2f%%\" % (model.metrics_names[1], trainingscores[1]*100))\n",
    "print(\"testing scores are below \\n\")\n",
    "print(\"%s: %.2f%%\" % (model.metrics_names[1], testingscores[1]*100))"
   ]
  },
  {
   "cell_type": "code",
   "execution_count": 42,
   "id": "baadcba6",
   "metadata": {},
   "outputs": [
    {
     "name": "stdout",
     "output_type": "stream",
     "text": [
      "                precision    recall  f1-score   support\n",
      "\n",
      "         ABDMJ       1.00      0.96      0.98        27\n",
      "          Agen       0.93      0.84      0.88       152\n",
      "       Allaple       0.93      1.00      0.97        86\n",
      "        Autoit       0.96      0.89      0.93       256\n",
      "        Berbew       0.82      0.39      0.53        23\n",
      "        Bitman       0.94      0.98      0.96       270\n",
      "        Dinwod       0.97      1.00      0.98       249\n",
      "       Dorkbot       0.89      0.89      0.89        28\n",
      "        Dridex       1.00      1.00      1.00       129\n",
      "        Emotet       0.97      0.83      0.89       112\n",
      "        Fsysna       0.99      0.97      0.98       150\n",
      "      Hematite       0.96      0.99      0.98       122\n",
      "InstallMonster       0.94      0.91      0.93        75\n",
      "        Oberal       1.00      0.93      0.96        56\n",
      "        Picsys       0.92      1.00      0.96       130\n",
      "      Salgorea       0.98      0.98      0.98       155\n",
      "          Scar       0.77      0.70      0.73        83\n",
      "         Sfone       0.90      0.96      0.93       260\n",
      "         Shifu       0.99      1.00      1.00       120\n",
      "         Socks       0.89      0.99      0.94       143\n",
      "         Sytro       1.00      1.00      1.00       273\n",
      "        Vilsel       0.99      0.98      0.99       196\n",
      "        Vobfus       0.97      0.99      0.98       178\n",
      "\n",
      "      accuracy                           0.95      3273\n",
      "     macro avg       0.94      0.92      0.93      3273\n",
      "  weighted avg       0.95      0.95      0.95      3273\n",
      "\n"
     ]
    }
   ],
   "source": [
    "print(classification_report(Y_test.argmax(axis=1), predictions.argmax(axis=1), target_names=class_names))"
   ]
  },
  {
   "cell_type": "code",
   "execution_count": 43,
   "id": "878b2347",
   "metadata": {
    "scrolled": false
   },
   "outputs": [
    {
     "data": {
      "image/png": "[encoded data removed]",
      "text/plain": [
       "<Figure size 432x288 with 1 Axes>"
      ]
     },
     "metadata": {
      "needs_background": "light"
     },
     "output_type": "display_data"
    },
    {
     "data": {
      "image/png": "[encoded data removed]",
      "text/plain": [
       "<Figure size 432x288 with 1 Axes>"
      ]
     },
     "metadata": {
      "needs_background": "light"
     },
     "output_type": "display_data"
    },
    {
     "data": {
      "image/png": "[encoded data removed]",
      "text/plain": [
       "<Figure size 432x288 with 1 Axes>"
      ]
     },
     "metadata": {
      "needs_background": "light"
     },
     "output_type": "display_data"
    }
   ],
   "source": [
    "# Declare vars for the plotting of figures \n",
    "accuracy = history.history['accuracy']\n",
    "val_accuracy = history.history['val_accuracy']\n",
    "loss = history.history['loss']\n",
    "val_loss = history.history['val_loss']\n",
    "epochs = range(len(accuracy))\n",
    "\n",
    "# overall model scoreing \n",
    "plt.plot(val_loss, 'r', loss, 'b', val_accuracy, 'g', accuracy, 'y')\n",
    "label = 'R = val_loss', 'B = loss', 'G = val_accuracy', 'Y = accuarcy'\n",
    "plt.title('Model Overview')\n",
    "plt.legend(label)\n",
    "plt.xlabel(\"Epoch #\")\n",
    "plt.ylabel(\"Loss/Accuracy\")\n",
    "plt.show()\n",
    "\n",
    "# Training output \n",
    "plt.plot(epochs, accuracy, label='Training accuracy')\n",
    "plt.plot(epochs, val_accuracy, label='Validation accuracy')\n",
    "plt.title('Training and validation accuracy')\n",
    "plt.legend()\n",
    "plt.xlabel(\"Epoch #\")\n",
    "plt.ylabel(\"Loss/Accuracy\")\n",
    "plt.show()\n",
    "\n",
    "# testing output \n",
    "plt.plot(epochs, loss, label='Training loss')\n",
    "plt.plot(epochs, val_loss, label='Validation loss')\n",
    "plt.title('Training and validation loss')\n",
    "plt.legend()\n",
    "plt.xlabel(\"Epoch #\")\n",
    "plt.ylabel(\"Loss/Accuracy\")\n",
    "plt.show()"
   ]
  },
  {
   "cell_type": "code",
   "execution_count": 44,
   "id": "1cc7b875",
   "metadata": {},
   "outputs": [
    {
     "name": "stdout",
     "output_type": "stream",
     "text": [
      "Saved model to disk\n"
     ]
    }
   ],
   "source": [
    "model.save(Output + \"modelReFIT9.h5\")\n",
    "print(\"Saved model to disk\")"
   ]
  },
  {
   "cell_type": "code",
   "execution_count": null,
   "id": "f8863bd5",
   "metadata": {},
   "outputs": [],
   "source": []
  }
 ],
 "metadata": {
  "kernelspec": {
   "display_name": "myfypenv",
   "language": "python",
   "name": "myfypenv"
  },
  "language_info": {
   "codemirror_mode": {
    "name": "ipython",
    "version": 3
   },
   "file_extension": ".py",
   "mimetype": "text/x-python",
   "name": "python",
   "nbconvert_exporter": "python",
   "pygments_lexer": "ipython3",
   "version": "3.8.8"
  }
 },
 "nbformat": 4,
 "nbformat_minor": 5
}
