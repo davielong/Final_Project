{
 "cells": [
  {
   "cell_type": "code",
   "execution_count": 1,
   "id": "f22ee45d",
   "metadata": {},
   "outputs": [],
   "source": [
    "# declare the imports for building our neural network and displaying our data \n",
    "import tensorflow as tf\n",
    "import PIL\n",
    "import os\n",
    "import h5py\n",
    "import sys\n",
    "import numpy as np\n",
    "import pandas as pd\n",
    "import random\n",
    "import csv\n",
    "import cv2\n",
    "import fnmatch\n",
    "from shutil import copyfile\n",
    "import matplotlib.pyplot as plt \n",
    "from sklearn.model_selection import train_test_split\n",
    "from numpy import asarray\n",
    "from numpy import savetxt\n",
    "from PIL import Image\n",
    "from tensorflow import keras\n",
    "from tensorflow.keras import layers\n",
    "from keras.models import Sequential\n",
    "from keras.layers import Dense, Dropout, Conv2D, MaxPool2D, Flatten, Activation, BatchNormalization\n",
    "from keras.utils import np_utils\n",
    "from matplotlib import image\n",
    "from os import listdir\n",
    "from sklearn.metrics import classification_report\n",
    "from keras import optimizers\n",
    "\n",
    "# set the input and outpout Dirs\n",
    "data_dir = 'C:\\\\Users\\davie\\Desktop\\Final_Project\\FYP\\HCurve'\n",
    "Output = 'C:\\\\Users\\davie\\Desktop\\Final_Project\\FYP\\Processed_Data\\\\'\n",
    "\n",
    "# create lists for the labels and the images \n",
    "loaded_images = []\n",
    "labels = []\n",
    "\n",
    "# function to find the the different Dirs withing the dataset \n",
    "def find_dirs(directory, pattern):\n",
    "    for item in os.listdir(directory):\n",
    "        if os.path.isdir(os.path.join(directory, item)):\n",
    "            if fnmatch.fnmatch(item, pattern):\n",
    "                filename = os.path.join(directory, item)\n",
    "                yield filename\n",
    "\n",
    "# function to find all the files in a given Dir \n",
    "def find_files(directory, pattern):\n",
    "    for item in os.listdir(directory):\n",
    "        if os.path.isfile(os.path.join(directory, item)):\n",
    "            if fnmatch.fnmatch(item, pattern):\n",
    "                filename = os.path.join(directory, item)\n",
    "                # assign a numerical value in place of a name\n",
    "                if 'ABDMJ' in directory: labels.append(0)\n",
    "                elif  'Agen' in directory: labels.append(1)# changes from Agent.BDJM for labeling reasons\n",
    "                elif  'Allaple'  in directory: labels.append(2)\n",
    "                elif  'Autoit'  in directory: labels.append(3)\n",
    "                elif  'Berbew'  in directory: labels.append(4)\n",
    "                elif  'Bitman'  in directory: labels.append(5)\n",
    "                elif  'Dinwod' in directory: labels.append(6)\n",
    "                elif  'Dorkbot'  in directory: labels.append(7)\n",
    "                elif  'Dridex'  in directory: labels.append(8)\n",
    "                elif  'Emotet'  in directory: labels.append(9)\n",
    "                elif  'Fsysna'  in directory: labels.append(10)\n",
    "                elif  'Hematite'  in directory: labels.append(11)\n",
    "                elif  'InstallMonster'  in directory: labels.append(12)\n",
    "                elif  'Oberal'  in directory: labels.append(13)\n",
    "                elif  'Picsys'  in directory: labels.append(14)\n",
    "                elif  'Salgorea'  in directory: labels.append(15)\n",
    "                elif  'Scar'  in directory: labels.append(16)\n",
    "                elif  'Sfone'  in directory: labels.append(17)\n",
    "                elif  'Shifu'  in directory: labels.append(18)\n",
    "                elif  'Socks'  in directory: labels.append(19)\n",
    "                elif  'Sytro'  in directory: labels.append(20)\n",
    "                elif  'Vilsel'  in directory: labels.append(21)\n",
    "                elif  'Vobfus' in directory : labels.append(22)\n",
    "                yield filename"
   ]
  },
  {
   "cell_type": "code",
   "execution_count": 2,
   "id": "7f6e3204",
   "metadata": {},
   "outputs": [
    {
     "name": "stdout",
     "output_type": "stream",
     "text": [
      "Done\n"
     ]
    }
   ],
   "source": [
    "# loop while there are Dirs and files in a given path \n",
    "runtime = True\n",
    "while runtime == True:\n",
    "    for filedir in find_dirs(data_dir, '*'):\n",
    "            for filename in find_files(filedir, '*'):              \n",
    "                img_data = cv2.imread(filename) \n",
    "                loaded_images.append(img_data)\n",
    "    print(\"Done\")\n",
    "    runtime = False;"
   ]
  },
  {
   "cell_type": "code",
   "execution_count": 3,
   "id": "a23470d2",
   "metadata": {},
   "outputs": [],
   "source": [
    "# Output img with window name as 'image' for testing of inmages loading \n",
    "cv2.imshow('image', loaded_images[0])\n",
    "cv2.waitKey(0)        \n",
    "cv2.destroyAllWindows()"
   ]
  },
  {
   "cell_type": "code",
   "execution_count": 3,
   "id": "12e7e0f7",
   "metadata": {},
   "outputs": [],
   "source": [
    "# convert the lists to arrays in ordfer to split the data  \n",
    "imsARR = np.array(loaded_images)\n",
    "labsARR = np.array(labels)"
   ]
  },
  {
   "cell_type": "code",
   "execution_count": 4,
   "id": "44259b8e",
   "metadata": {},
   "outputs": [],
   "source": [
    "# split the data intop training and testing subsets\n",
    "X_train, X_test, Y_train, Y_test = train_test_split(imsARR, labsARR)"
   ]
  },
  {
   "cell_type": "code",
   "execution_count": 5,
   "id": "b55cd6ed",
   "metadata": {
    "scrolled": true
   },
   "outputs": [
    {
     "name": "stdout",
     "output_type": "stream",
     "text": [
      "(9818, 256, 256, 3)\n",
      "(3273, 256, 256, 3)\n",
      "(9818,)\n",
      "(3273,)\n"
     ]
    }
   ],
   "source": [
    "# examione the shape of the data \n",
    "print(X_train.shape)\n",
    "print(X_test.shape)\n",
    "print(Y_train.shape)\n",
    "print(Y_test.shape)\n",
    "np.save(Output+'xtrain256x256', X_train)\n",
    "np.save(Output+'ytrain256x256', Y_train)\n",
    "np.save(Output+'xtest256x256', X_test)\n",
    "np.save(Output+'ytest256x256', Y_test)"
   ]
  },
  {
   "cell_type": "code",
   "execution_count": 7,
   "id": "af62bac5",
   "metadata": {},
   "outputs": [],
   "source": [
    "# building the input vector from the 256x256 pixels\n",
    "X_train = X_train.astype('float32')\n",
    "X_test = X_test.astype('float32')\n",
    "# normalizing the data to help with the training\n",
    "X_train /= 255\n",
    "X_test /= 255"
   ]
  },
  {
   "cell_type": "code",
   "execution_count": 8,
   "id": "e42926de",
   "metadata": {},
   "outputs": [
    {
     "name": "stdout",
     "output_type": "stream",
     "text": [
      "Shape before one-hot encoding:  (9818,)\n",
      "Shape after one-hot encoding:  (9818, 23)\n"
     ]
    }
   ],
   "source": [
    "# one-hot encoding using keras\n",
    "n_classes = 23\n",
    "class_names = ['ABDMJ', 'Agen', 'Allaple', 'Autoit', 'Berbew', 'Bitman', 'Dinwod', 'Dorkbot', \n",
    "               'Dridex', 'Emotet', 'Fsysna', 'Hematite', 'InstallMonster', 'Oberal', 'Picsys', \n",
    "               'Salgorea', 'Scar', 'Sfone', 'Shifu', 'Socks', 'Sytro', 'Vilsel', 'Vobfus']\n",
    "print(\"Shape before one-hot encoding: \", Y_train.shape)\n",
    "Y_train = np_utils.to_categorical(Y_train, n_classes)\n",
    "Y_test = np_utils.to_categorical(Y_test, n_classes)\n",
    "print(\"Shape after one-hot encoding: \", Y_train.shape)"
   ]
  },
  {
   "cell_type": "code",
   "execution_count": 9,
   "id": "bff5c175",
   "metadata": {
    "scrolled": true
   },
   "outputs": [],
   "source": [
    "# building a linear stack of layers with the sequential model\n",
    "model = Sequential()"
   ]
  },
  {
   "cell_type": "code",
   "execution_count": 10,
   "id": "76e4b2ff",
   "metadata": {},
   "outputs": [],
   "source": [
    "# convolutional layer\n",
    "model.add(Conv2D(50, kernel_size=(3,3), strides=(1,1), padding='same', activation='relu', input_shape=(256, 256, 3)))\n",
    "# convolutional layer\n",
    "model.add(Conv2D(75, kernel_size=(3,3), strides=(1,1), padding='same', activation='relu'))\n",
    "model.add(MaxPool2D(pool_size=(2,2)))\n",
    "model.add(Dropout(0.25))\n",
    "# convolutional layer\n",
    "model.add(Conv2D(125, kernel_size=(3,3), strides=(1,1), padding='same', activation='relu'))\n",
    "model.add(MaxPool2D(pool_size=(2,2)))\n",
    "model.add(Dropout(0.25))\n",
    "# convolutional layer\n",
    "model.add(Conv2D(150, kernel_size=(3,3), strides=(1,1), padding='same', activation='relu'))\n",
    "model.add(MaxPool2D(pool_size=(2,2)))\n",
    "model.add(Dropout(0.25))\n",
    "# convolutional layer\n",
    "model.add(Conv2D(175, kernel_size=(3,3), strides=(1,1), padding='same', activation='relu'))\n",
    "model.add(MaxPool2D(pool_size=(2,2)))\n",
    "model.add(Dropout(0.25))"
   ]
  },
  {
   "cell_type": "code",
   "execution_count": 11,
   "id": "e61ba35e",
   "metadata": {},
   "outputs": [],
   "source": [
    "# flatten output\n",
    "model.add(Flatten())\n",
    "# hidden layer\n",
    "model.add(Dense(500, activation='relu'))\n",
    "model.add(Dropout(0.4))\n",
    "model.add(Dense(250, activation='relu'))\n",
    "model.add(Dropout(0.3))\n",
    "model.add(Dense(125, activation='relu'))\n",
    "model.add(Dropout(0.2))\n",
    "# output layer\n",
    "model.add(Dense(23, activation='softmax'))"
   ]
  },
  {
   "cell_type": "code",
   "execution_count": 12,
   "id": "81abe4d5",
   "metadata": {
    "scrolled": false
   },
   "outputs": [
    {
     "name": "stdout",
     "output_type": "stream",
     "text": [
      "Epoch 1/15\n",
      "197/197 [==============================] - 18598s 94s/step - loss: 3.0732 - accuracy: 0.1261 - val_loss: 1.1187 - val_accuracy: 0.7070\n",
      "Epoch 2/15\n",
      "197/197 [==============================] - 18424s 94s/step - loss: 1.0509 - accuracy: 0.6833 - val_loss: 0.3965 - val_accuracy: 0.8952\n",
      "Epoch 3/15\n",
      "197/197 [==============================] - 18459s 94s/step - loss: 0.5057 - accuracy: 0.8522 - val_loss: 0.2688 - val_accuracy: 0.9291\n",
      "Epoch 4/15\n",
      "197/197 [==============================] - 18498s 94s/step - loss: 0.3416 - accuracy: 0.9082 - val_loss: 0.2260 - val_accuracy: 0.9441\n",
      "Epoch 5/15\n",
      "197/197 [==============================] - 18388s 93s/step - loss: 0.2327 - accuracy: 0.9345 - val_loss: 0.1943 - val_accuracy: 0.9496\n",
      "Epoch 6/15\n",
      "197/197 [==============================] - 18416s 94s/step - loss: 0.1802 - accuracy: 0.9470 - val_loss: 0.1970 - val_accuracy: 0.9468\n",
      "Epoch 7/15\n",
      "197/197 [==============================] - 18542s 94s/step - loss: 0.1492 - accuracy: 0.9590 - val_loss: 0.1666 - val_accuracy: 0.9594\n",
      "Epoch 8/15\n",
      "197/197 [==============================] - 18453s 94s/step - loss: 0.1171 - accuracy: 0.9683 - val_loss: 0.1568 - val_accuracy: 0.9591\n",
      "Epoch 9/15\n",
      "197/197 [==============================] - 18648s 95s/step - loss: 0.0981 - accuracy: 0.9735 - val_loss: 0.1915 - val_accuracy: 0.9603\n",
      "Epoch 10/15\n",
      "197/197 [==============================] - 18297s 93s/step - loss: 0.0961 - accuracy: 0.9727 - val_loss: 0.1748 - val_accuracy: 0.9572\n",
      "Epoch 11/15\n",
      "197/197 [==============================] - 18375s 93s/step - loss: 0.0899 - accuracy: 0.9743 - val_loss: 0.1600 - val_accuracy: 0.9615\n",
      "Epoch 12/15\n",
      "197/197 [==============================] - 18455s 94s/step - loss: 0.0657 - accuracy: 0.9818 - val_loss: 0.1703 - val_accuracy: 0.9591\n",
      "Epoch 13/15\n",
      "197/197 [==============================] - 18362s 93s/step - loss: 0.0664 - accuracy: 0.9834 - val_loss: 0.1888 - val_accuracy: 0.9609\n",
      "Epoch 14/15\n",
      "197/197 [==============================] - 18409s 93s/step - loss: 0.0573 - accuracy: 0.9834 - val_loss: 0.1718 - val_accuracy: 0.9643\n",
      "Epoch 15/15\n",
      "197/197 [==============================] - 18404s 93s/step - loss: 0.0623 - accuracy: 0.9831 - val_loss: 0.1950 - val_accuracy: 0.9588\n",
      "Model: \"sequential\"\n",
      "_________________________________________________________________\n",
      "Layer (type)                 Output Shape              Param #   \n",
      "=================================================================\n",
      "conv2d (Conv2D)              (None, 256, 256, 50)      1400      \n",
      "_________________________________________________________________\n",
      "conv2d_1 (Conv2D)            (None, 256, 256, 75)      33825     \n",
      "_________________________________________________________________\n",
      "max_pooling2d (MaxPooling2D) (None, 128, 128, 75)      0         \n",
      "_________________________________________________________________\n",
      "dropout (Dropout)            (None, 128, 128, 75)      0         \n",
      "_________________________________________________________________\n",
      "conv2d_2 (Conv2D)            (None, 128, 128, 125)     84500     \n",
      "_________________________________________________________________\n",
      "max_pooling2d_1 (MaxPooling2 (None, 64, 64, 125)       0         \n",
      "_________________________________________________________________\n",
      "dropout_1 (Dropout)          (None, 64, 64, 125)       0         \n",
      "_________________________________________________________________\n",
      "conv2d_3 (Conv2D)            (None, 64, 64, 150)       168900    \n",
      "_________________________________________________________________\n",
      "max_pooling2d_2 (MaxPooling2 (None, 32, 32, 150)       0         \n",
      "_________________________________________________________________\n",
      "dropout_2 (Dropout)          (None, 32, 32, 150)       0         \n",
      "_________________________________________________________________\n",
      "conv2d_4 (Conv2D)            (None, 32, 32, 175)       236425    \n",
      "_________________________________________________________________\n",
      "max_pooling2d_3 (MaxPooling2 (None, 16, 16, 175)       0         \n",
      "_________________________________________________________________\n",
      "dropout_3 (Dropout)          (None, 16, 16, 175)       0         \n",
      "_________________________________________________________________\n",
      "flatten (Flatten)            (None, 44800)             0         \n",
      "_________________________________________________________________\n",
      "dense (Dense)                (None, 500)               22400500  \n",
      "_________________________________________________________________\n",
      "dropout_4 (Dropout)          (None, 500)               0         \n",
      "_________________________________________________________________\n",
      "dense_1 (Dense)              (None, 250)               125250    \n",
      "_________________________________________________________________\n",
      "dropout_5 (Dropout)          (None, 250)               0         \n",
      "_________________________________________________________________\n",
      "dense_2 (Dense)              (None, 125)               31375     \n",
      "_________________________________________________________________\n",
      "dropout_6 (Dropout)          (None, 125)               0         \n",
      "_________________________________________________________________\n",
      "dense_3 (Dense)              (None, 23)                2898      \n",
      "=================================================================\n",
      "Total params: 23,085,073\n",
      "Trainable params: 23,085,073\n",
      "Non-trainable params: 0\n",
      "_________________________________________________________________\n"
     ]
    }
   ],
   "source": [
    "# compiling the sequential model\n",
    "model.compile(loss='categorical_crossentropy', metrics=['accuracy'], optimizer='adam')\n",
    "\n",
    "# training the model for 10 epochs with a batch sizeof 50 as there are memory constraints \n",
    "# history = model.fit(X_train, Y_train, batch_size=50, epochs=10, validation_data=(X_test, Y_test))\n",
    "# training the model for 15 epochs with a batch size of 50 as there are memory constraints and tweeking the params\n",
    "history = model.fit(X_train, Y_train, batch_size=50, epochs=15, validation_data=(X_test, Y_test))\n",
    "\n",
    "\n",
    "model.summary()"
   ]
  },
  {
   "cell_type": "code",
   "execution_count": 13,
   "id": "3c1e7233",
   "metadata": {
    "scrolled": true
   },
   "outputs": [
    {
     "name": "stdout",
     "output_type": "stream",
     "text": [
      "[INFO] evaluating network\n",
      "training scores are below \n",
      "\n",
      "accuracy: 99.57%\n",
      "testing scores are below \n",
      "\n",
      "accuracy: 95.88%\n"
     ]
    }
   ],
   "source": [
    "# evaluate the model and print the score to screen \n",
    "trainingscores = model.evaluate(X_train, Y_train, verbose=0)\n",
    "testingscores = model.evaluate(X_test, Y_test, verbose=0)\n",
    "print(\"[INFO] evaluating network\")\n",
    "predictions = model.predict(X_test, batch_size=50)\n",
    "print(\"training scores are below \\n\")\n",
    "print(\"%s: %.2f%%\" % (model.metrics_names[1], trainingscores[1]*100))\n",
    "print(\"testing scores are below \\n\")\n",
    "print(\"%s: %.2f%%\" % (model.metrics_names[1], testingscores[1]*100))"
   ]
  },
  {
   "cell_type": "code",
   "execution_count": 14,
   "id": "baadcba6",
   "metadata": {},
   "outputs": [
    {
     "name": "stdout",
     "output_type": "stream",
     "text": [
      "                precision    recall  f1-score   support\n",
      "\n",
      "         ABDMJ       0.95      1.00      0.97        18\n",
      "          Agen       0.95      0.84      0.89       174\n",
      "       Allaple       0.97      1.00      0.98        83\n",
      "        Autoit       0.94      0.95      0.94       233\n",
      "        Berbew       0.82      0.61      0.70        23\n",
      "        Bitman       0.95      0.97      0.96       260\n",
      "        Dinwod       0.98      1.00      0.99       210\n",
      "       Dorkbot       0.68      1.00      0.81        26\n",
      "        Dridex       1.00      1.00      1.00       121\n",
      "        Emotet       0.88      0.82      0.85       125\n",
      "        Fsysna       0.97      0.99      0.98       148\n",
      "      Hematite       0.98      0.99      0.98       144\n",
      "InstallMonster       1.00      0.93      0.96        98\n",
      "        Oberal       0.98      0.96      0.97        53\n",
      "        Picsys       0.98      0.99      0.99       139\n",
      "      Salgorea       0.94      0.99      0.97       150\n",
      "          Scar       0.86      0.73      0.79        77\n",
      "         Sfone       0.94      0.98      0.96       269\n",
      "         Shifu       1.00      1.00      1.00       106\n",
      "         Socks       0.95      0.97      0.96       107\n",
      "         Sytro       0.98      1.00      0.99       321\n",
      "        Vilsel       1.00      0.96      0.98       190\n",
      "        Vobfus       0.95      0.99      0.97       198\n",
      "\n",
      "      accuracy                           0.96      3273\n",
      "     macro avg       0.94      0.94      0.94      3273\n",
      "  weighted avg       0.96      0.96      0.96      3273\n",
      "\n"
     ]
    }
   ],
   "source": [
    "print(classification_report(Y_test.argmax(axis=1), predictions.argmax(axis=1), target_names=class_names))\n"
   ]
  },
  {
   "cell_type": "code",
   "execution_count": 15,
   "id": "878b2347",
   "metadata": {
    "scrolled": false
   },
   "outputs": [
    {
     "data": {
      "image/png": "[encoded data removed]",
      "text/plain": [
       "<Figure size 432x288 with 1 Axes>"
      ]
     },
     "metadata": {
      "needs_background": "light"
     },
     "output_type": "display_data"
    },
    {
     "data": {
      "image/png": "[encoded data removed]",
      "text/plain": [
       "<Figure size 432x288 with 1 Axes>"
      ]
     },
     "metadata": {
      "needs_background": "light"
     },
     "output_type": "display_data"
    },
    {
     "data": {
      "image/png": "[encoded data removed]",
      "text/plain": [
       "<Figure size 432x288 with 1 Axes>"
      ]
     },
     "metadata": {
      "needs_background": "light"
     },
     "output_type": "display_data"
    }
   ],
   "source": [
    "# Declare vars for the plotting of figures \n",
    "accuracy = history.history['accuracy']\n",
    "val_accuracy = history.history['val_accuracy']\n",
    "loss = history.history['loss']\n",
    "val_loss = history.history['val_loss']\n",
    "epochs = range(len(accuracy))\n",
    "\n",
    "# overall model scoreing \n",
    "plt.plot(val_loss, 'r', loss, 'b', val_accuracy, 'g', accuracy, 'y')\n",
    "label = 'R = val_loss', 'B = loss', 'G = val_accuracy', 'Y = accuarcy'\n",
    "plt.title('Model Overview')\n",
    "plt.legend(label)\n",
    "plt.xlabel(\"Epoch #\")\n",
    "plt.ylabel(\"Loss/Accuracy\")\n",
    "plt.show()\n",
    "\n",
    "# Training output \n",
    "plt.plot(epochs, accuracy, label='Training accuracy')\n",
    "plt.plot(epochs, val_accuracy, label='Validation accuracy')\n",
    "plt.title('Training and validation accuracy')\n",
    "plt.legend()\n",
    "plt.xlabel(\"Epoch #\")\n",
    "plt.ylabel(\"Loss/Accuracy\")\n",
    "plt.show()\n",
    "\n",
    "# testing output \n",
    "plt.plot(epochs, loss, label='Training loss')\n",
    "plt.plot(epochs, val_loss, label='Validation loss')\n",
    "plt.title('Training and validation loss')\n",
    "plt.legend()\n",
    "plt.xlabel(\"Epoch #\")\n",
    "plt.ylabel(\"Loss/Accuracy\")\n",
    "plt.show()"
   ]
  },
  {
   "cell_type": "code",
   "execution_count": 18,
   "id": "1cc7b875",
   "metadata": {},
   "outputs": [
    {
     "name": "stdout",
     "output_type": "stream",
     "text": [
      "Saved model to disk\n"
     ]
    }
   ],
   "source": [
    "model.save(Output + \"modelReFIT5.h5\")\n",
    "print(\"Saved model to disk\")"
   ]
  },
  {
   "cell_type": "code",
   "execution_count": null,
   "id": "f8863bd5",
   "metadata": {},
   "outputs": [],
   "source": []
  }
 ],
 "metadata": {
  "kernelspec": {
   "display_name": "myfypenv",
   "language": "python",
   "name": "myfypenv"
  },
  "language_info": {
   "codemirror_mode": {
    "name": "ipython",
    "version": 3
   },
   "file_extension": ".py",
   "mimetype": "text/x-python",
   "name": "python",
   "nbconvert_exporter": "python",
   "pygments_lexer": "ipython3",
   "version": "3.8.8"
  }
 },
 "nbformat": 4,
 "nbformat_minor": 5
}
