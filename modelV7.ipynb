{
 "cells": [
  {
   "cell_type": "code",
   "execution_count": 1,
   "id": "f22ee45d",
   "metadata": {},
   "outputs": [],
   "source": [
    "# declare the imports for building our neural network and displaying our data \n",
    "import tensorflow as tf\n",
    "import PIL\n",
    "import os\n",
    "import h5py\n",
    "import sys\n",
    "import numpy as np\n",
    "import pandas as pd\n",
    "import random\n",
    "import csv\n",
    "import cv2\n",
    "import fnmatch\n",
    "from shutil import copyfile\n",
    "import matplotlib.pyplot as plt \n",
    "from sklearn.model_selection import train_test_split\n",
    "from numpy import asarray\n",
    "from numpy import savetxt\n",
    "from PIL import Image\n",
    "from tensorflow import keras\n",
    "from tensorflow.keras import layers\n",
    "from keras.models import Sequential\n",
    "from keras.layers import Dense, Dropout, Conv2D, MaxPool2D, Flatten, Activation, BatchNormalization\n",
    "from keras.utils import np_utils\n",
    "from matplotlib import image\n",
    "from os import listdir\n",
    "from sklearn.metrics import classification_report\n",
    "from keras import optimizers\n",
    "\n",
    "# set the input and outpout Dirs\n",
    "data_dir = 'C:\\\\Users\\davie\\Desktop\\Final_Project\\FYP\\HCurve'\n",
    "Output = 'C:\\\\Users\\davie\\Desktop\\Final_Project\\FYP\\Processed_Data\\\\'"
   ]
  },
  {
   "cell_type": "code",
   "execution_count": 2,
   "id": "a6ecaac2",
   "metadata": {},
   "outputs": [
    {
     "name": "stdout",
     "output_type": "stream",
     "text": [
      "(9818, 32, 32, 3)\n",
      "(3273, 32, 32, 3)\n",
      "(9818,)\n",
      "(3273,)\n"
     ]
    }
   ],
   "source": [
    "# load and examine the shape of the data \n",
    "X_train = np.load(Output+'xtrain32x32.npy')\n",
    "Y_train = np.load(Output+'ytrain32x32.npy')\n",
    "X_test = np.load(Output+'xtest32x32.npy')\n",
    "Y_test = np.load(Output+'ytest32x32.npy')\n",
    "print(X_train.shape)\n",
    "print(X_test.shape)\n",
    "print(Y_train.shape)\n",
    "print(Y_test.shape)"
   ]
  },
  {
   "cell_type": "code",
   "execution_count": 3,
   "id": "af62bac5",
   "metadata": {},
   "outputs": [],
   "source": [
    "# building the input vector from the 256x256 pixels\n",
    "X_train = X_train.astype('float32')\n",
    "X_test = X_test.astype('float32')\n",
    "# normalizing the data to help with the training\n",
    "X_train /= 255\n",
    "X_test /= 255"
   ]
  },
  {
   "cell_type": "code",
   "execution_count": 3,
   "id": "e42926de",
   "metadata": {},
   "outputs": [
    {
     "name": "stdout",
     "output_type": "stream",
     "text": [
      "Shape before one-hot encoding:  (9818,)\n",
      "Shape after one-hot encoding:  (9818, 23)\n"
     ]
    }
   ],
   "source": [
    "# one-hot encoding using keras\n",
    "n_classes = 23\n",
    "class_names = ['Agent.BDMJ', 'Agen', 'Allaple', 'Autoit', 'Berbew', 'Bitman', 'Dinwod', 'Dorkbot', \n",
    "               'Dridex', 'Emotet', 'Fsysna', 'Hematite', 'InstallMonster', 'Oberal', 'Picsys', \n",
    "               'Salgorea', 'Scar', 'Sfone', 'Shifu', 'Socks', 'Sytro', 'Vilsel', 'Vobfus']\n",
    "print(\"Shape before one-hot encoding: \", Y_train.shape)\n",
    "Y_train = np_utils.to_categorical(Y_train, n_classes)\n",
    "Y_test = np_utils.to_categorical(Y_test, n_classes)\n",
    "print(\"Shape after one-hot encoding: \", Y_train.shape)"
   ]
  },
  {
   "cell_type": "code",
   "execution_count": 4,
   "id": "9a8eb3be",
   "metadata": {},
   "outputs": [
    {
     "name": "stdout",
     "output_type": "stream",
     "text": [
      "[[0. 0. 1. ... 0. 0. 0.]\n",
      " [0. 0. 0. ... 0. 0. 0.]\n",
      " [0. 1. 0. ... 0. 0. 0.]\n",
      " ...\n",
      " [0. 0. 0. ... 0. 0. 0.]\n",
      " [0. 0. 0. ... 0. 0. 0.]\n",
      " [0. 0. 0. ... 0. 0. 0.]]\n"
     ]
    }
   ],
   "source": [
    "print(Y_train)"
   ]
  },
  {
   "cell_type": "code",
   "execution_count": 5,
   "id": "bff5c175",
   "metadata": {
    "scrolled": true
   },
   "outputs": [],
   "source": [
    "# building a linear stack of layers with the sequential model\n",
    "model = Sequential()"
   ]
  },
  {
   "cell_type": "code",
   "execution_count": 6,
   "id": "76e4b2ff",
   "metadata": {},
   "outputs": [],
   "source": [
    "# conv layer\n",
    "model.add(Conv2D(50, kernel_size=(3,3), strides=(1,1), padding='same', activation='relu', input_shape=(32, 32, 3)))\n",
    "# conv layer\n",
    "model.add(Conv2D(75, kernel_size=(3,3), strides=(1,1), padding='same', activation='relu'))\n",
    "model.add(MaxPool2D(pool_size=(2,2)))\n",
    "model.add(Dropout(0.25))\n",
    "# conv layer\n",
    "model.add(Conv2D(125, kernel_size=(3,3), strides=(1,1), padding='same', activation='relu'))\n",
    "model.add(MaxPool2D(pool_size=(2,2)))\n",
    "model.add(Dropout(0.25))\n",
    "# conv layer\n",
    "model.add(Conv2D(150, kernel_size=(3,3), strides=(1,1), padding='same', activation='relu'))\n",
    "model.add(MaxPool2D(pool_size=(2,2)))\n",
    "model.add(Dropout(0.25))\n",
    "# conv layer\n",
    "model.add(Conv2D(175, kernel_size=(3,3), strides=(1,1), padding='same', activation='relu'))\n",
    "model.add(MaxPool2D(pool_size=(2,2)))\n",
    "model.add(Dropout(0.25))"
   ]
  },
  {
   "cell_type": "code",
   "execution_count": 7,
   "id": "e61ba35e",
   "metadata": {},
   "outputs": [],
   "source": [
    "# flatten output\n",
    "model.add(Flatten())\n",
    "# hidden layer\n",
    "model.add(Dense(500, activation='relu'))\n",
    "model.add(Dropout(0.4))\n",
    "model.add(Dense(250, activation='relu'))\n",
    "model.add(Dropout(0.3))\n",
    "model.add(Dense(125, activation='relu'))\n",
    "model.add(Dropout(0.2))\n",
    "# output layer\n",
    "model.add(Dense(23, activation='softmax'))"
   ]
  },
  {
   "cell_type": "code",
   "execution_count": 8,
   "id": "81abe4d5",
   "metadata": {
    "scrolled": false
   },
   "outputs": [
    {
     "name": "stdout",
     "output_type": "stream",
     "text": [
      "Epoch 1/20\n",
      "99/99 [==============================] - 387s 3s/step - loss: 2.9475 - accuracy: 0.1009 - val_loss: 2.3553 - val_accuracy: 0.2762\n",
      "Epoch 2/20\n",
      "99/99 [==============================] - 339s 3s/step - loss: 2.1215 - accuracy: 0.3458 - val_loss: 1.2203 - val_accuracy: 0.6303\n",
      "Epoch 3/20\n",
      "99/99 [==============================] - 332s 3s/step - loss: 1.2458 - accuracy: 0.6079 - val_loss: 0.7089 - val_accuracy: 0.8069\n",
      "Epoch 4/20\n",
      "99/99 [==============================] - 332s 3s/step - loss: 0.7956 - accuracy: 0.7681 - val_loss: 0.4257 - val_accuracy: 0.8741\n",
      "Epoch 5/20\n",
      "99/99 [==============================] - 311s 3s/step - loss: 0.5072 - accuracy: 0.8547 - val_loss: 0.3211 - val_accuracy: 0.9086\n",
      "Epoch 6/20\n",
      "99/99 [==============================] - 297s 3s/step - loss: 0.3432 - accuracy: 0.8993 - val_loss: 0.2388 - val_accuracy: 0.9395\n",
      "Epoch 7/20\n",
      "99/99 [==============================] - 298s 3s/step - loss: 0.2673 - accuracy: 0.9262 - val_loss: 0.2088 - val_accuracy: 0.9490\n",
      "Epoch 8/20\n",
      "99/99 [==============================] - 297s 3s/step - loss: 0.2501 - accuracy: 0.9286 - val_loss: 0.1932 - val_accuracy: 0.9566\n",
      "Epoch 9/20\n",
      "99/99 [==============================] - 297s 3s/step - loss: 0.1976 - accuracy: 0.9472 - val_loss: 0.2097 - val_accuracy: 0.9462\n",
      "Epoch 10/20\n",
      "99/99 [==============================] - 298s 3s/step - loss: 0.1903 - accuracy: 0.9483 - val_loss: 0.1966 - val_accuracy: 0.9523\n",
      "Epoch 11/20\n",
      "99/99 [==============================] - 296s 3s/step - loss: 0.1823 - accuracy: 0.9481 - val_loss: 0.1699 - val_accuracy: 0.9633\n",
      "Epoch 12/20\n",
      "99/99 [==============================] - 295s 3s/step - loss: 0.1689 - accuracy: 0.9529 - val_loss: 0.1613 - val_accuracy: 0.9649\n",
      "Epoch 13/20\n",
      "99/99 [==============================] - 295s 3s/step - loss: 0.1407 - accuracy: 0.9606 - val_loss: 0.1431 - val_accuracy: 0.9655\n",
      "Epoch 14/20\n",
      "99/99 [==============================] - 292s 3s/step - loss: 0.1275 - accuracy: 0.9627 - val_loss: 0.1461 - val_accuracy: 0.9701\n",
      "Epoch 15/20\n",
      "99/99 [==============================] - 291s 3s/step - loss: 0.1143 - accuracy: 0.9683 - val_loss: 0.1354 - val_accuracy: 0.9698\n",
      "Epoch 16/20\n",
      "99/99 [==============================] - 291s 3s/step - loss: 0.1164 - accuracy: 0.9658 - val_loss: 0.1611 - val_accuracy: 0.9643\n",
      "Epoch 17/20\n",
      "99/99 [==============================] - 296s 3s/step - loss: 0.1181 - accuracy: 0.9689 - val_loss: 0.1530 - val_accuracy: 0.9694\n",
      "Epoch 18/20\n",
      "99/99 [==============================] - 306s 3s/step - loss: 0.1070 - accuracy: 0.9710 - val_loss: 0.1382 - val_accuracy: 0.9685\n",
      "Epoch 19/20\n",
      "99/99 [==============================] - 315s 3s/step - loss: 0.0944 - accuracy: 0.9714 - val_loss: 0.1280 - val_accuracy: 0.9737\n",
      "Epoch 20/20\n",
      "99/99 [==============================] - 315s 3s/step - loss: 0.0866 - accuracy: 0.9759 - val_loss: 0.1416 - val_accuracy: 0.9713\n",
      "Model: \"sequential\"\n",
      "_________________________________________________________________\n",
      "Layer (type)                 Output Shape              Param #   \n",
      "=================================================================\n",
      "conv2d (Conv2D)              (None, 32, 32, 50)        1400      \n",
      "_________________________________________________________________\n",
      "conv2d_1 (Conv2D)            (None, 32, 32, 75)        33825     \n",
      "_________________________________________________________________\n",
      "max_pooling2d (MaxPooling2D) (None, 16, 16, 75)        0         \n",
      "_________________________________________________________________\n",
      "dropout (Dropout)            (None, 16, 16, 75)        0         \n",
      "_________________________________________________________________\n",
      "conv2d_2 (Conv2D)            (None, 16, 16, 125)       84500     \n",
      "_________________________________________________________________\n",
      "max_pooling2d_1 (MaxPooling2 (None, 8, 8, 125)         0         \n",
      "_________________________________________________________________\n",
      "dropout_1 (Dropout)          (None, 8, 8, 125)         0         \n",
      "_________________________________________________________________\n",
      "conv2d_3 (Conv2D)            (None, 8, 8, 150)         168900    \n",
      "_________________________________________________________________\n",
      "max_pooling2d_2 (MaxPooling2 (None, 4, 4, 150)         0         \n",
      "_________________________________________________________________\n",
      "dropout_2 (Dropout)          (None, 4, 4, 150)         0         \n",
      "_________________________________________________________________\n",
      "conv2d_4 (Conv2D)            (None, 4, 4, 175)         236425    \n",
      "_________________________________________________________________\n",
      "max_pooling2d_3 (MaxPooling2 (None, 2, 2, 175)         0         \n",
      "_________________________________________________________________\n",
      "dropout_3 (Dropout)          (None, 2, 2, 175)         0         \n",
      "_________________________________________________________________\n",
      "flatten (Flatten)            (None, 700)               0         \n",
      "_________________________________________________________________\n",
      "dense (Dense)                (None, 500)               350500    \n",
      "_________________________________________________________________\n",
      "dropout_4 (Dropout)          (None, 500)               0         \n",
      "_________________________________________________________________\n",
      "dense_1 (Dense)              (None, 250)               125250    \n",
      "_________________________________________________________________\n",
      "dropout_5 (Dropout)          (None, 250)               0         \n",
      "_________________________________________________________________\n",
      "dense_2 (Dense)              (None, 125)               31375     \n",
      "_________________________________________________________________\n",
      "dropout_6 (Dropout)          (None, 125)               0         \n",
      "_________________________________________________________________\n",
      "dense_3 (Dense)              (None, 23)                2898      \n",
      "=================================================================\n",
      "Total params: 1,035,073\n",
      "Trainable params: 1,035,073\n",
      "Non-trainable params: 0\n",
      "_________________________________________________________________\n"
     ]
    }
   ],
   "source": [
    "# compiling the sequential model\n",
    "model.compile(loss='categorical_crossentropy', metrics=['accuracy'], optimizer='adam')\n",
    "\n",
    "# training the model for 10 epochs with a batch sizeof 50 as there are memory constraints \n",
    "# history = model.fit(X_train, Y_train, batch_size=50, epochs=10, validation_data=(X_test, Y_test))\n",
    "# training the model for 20 epochs with a batch size of 50 as there are memory constraints and tweeking the params\n",
    "history = model.fit(X_train, Y_train, batch_size=100, epochs=20, validation_data=(X_test, Y_test))\n",
    "\n",
    "model.summary()"
   ]
  },
  {
   "cell_type": "code",
   "execution_count": 9,
   "id": "3c1e7233",
   "metadata": {
    "scrolled": true
   },
   "outputs": [
    {
     "name": "stdout",
     "output_type": "stream",
     "text": [
      "[INFO] evaluating network\n",
      "training scores are below \n",
      "\n",
      "accuracy: 99.16%\n",
      "testing scores are below \n",
      "\n",
      "accuracy: 97.13%\n"
     ]
    }
   ],
   "source": [
    "# evaluate the model and print the score to screen \n",
    "trainingscores = model.evaluate(X_train, Y_train, verbose=0)\n",
    "testingscores = model.evaluate(X_test, Y_test, verbose=0)\n",
    "print(\"[INFO] evaluating network\")\n",
    "predictions = model.predict(X_test, batch_size=100)\n",
    "print(\"training scores are below \\n\")\n",
    "print(\"%s: %.2f%%\" % (model.metrics_names[1], trainingscores[1]*100))\n",
    "print(\"testing scores are below \\n\")\n",
    "print(\"%s: %.2f%%\" % (model.metrics_names[1], testingscores[1]*100))"
   ]
  },
  {
   "cell_type": "code",
   "execution_count": 10,
   "id": "baadcba6",
   "metadata": {},
   "outputs": [
    {
     "name": "stdout",
     "output_type": "stream",
     "text": [
      "                precision    recall  f1-score   support\n",
      "\n",
      "         ABDMJ       1.00      1.00      1.00        27\n",
      "          Agen       0.96      0.87      0.91       152\n",
      "       Allaple       1.00      1.00      1.00        86\n",
      "        Autoit       0.99      0.93      0.96       256\n",
      "        Berbew       0.82      1.00      0.90        23\n",
      "        Bitman       0.96      0.99      0.97       270\n",
      "        Dinwod       0.98      1.00      0.99       249\n",
      "       Dorkbot       0.93      1.00      0.97        28\n",
      "        Dridex       1.00      1.00      1.00       129\n",
      "        Emotet       0.92      0.89      0.90       112\n",
      "        Fsysna       0.92      1.00      0.96       150\n",
      "      Hematite       0.98      0.99      0.99       122\n",
      "InstallMonster       0.96      0.93      0.95        75\n",
      "        Oberal       0.97      1.00      0.98        56\n",
      "        Picsys       0.99      0.99      0.99       130\n",
      "      Salgorea       0.97      1.00      0.98       155\n",
      "          Scar       0.84      0.67      0.75        83\n",
      "         Sfone       0.99      1.00      0.99       260\n",
      "         Shifu       0.99      1.00      1.00       120\n",
      "         Socks       0.98      1.00      0.99       143\n",
      "         Sytro       0.98      1.00      0.99       273\n",
      "        Vilsel       1.00      0.98      0.99       196\n",
      "        Vobfus       0.97      0.99      0.98       178\n",
      "\n",
      "      accuracy                           0.97      3273\n",
      "     macro avg       0.96      0.97      0.96      3273\n",
      "  weighted avg       0.97      0.97      0.97      3273\n",
      "\n"
     ]
    }
   ],
   "source": [
    "print(classification_report(Y_test.argmax(axis=1), predictions.argmax(axis=1), target_names=class_names))\n"
   ]
  },
  {
   "cell_type": "code",
   "execution_count": 11,
   "id": "878b2347",
   "metadata": {
    "scrolled": false
   },
   "outputs": [
    {
     "data": {
      "image/png": "[encoded data removed]",
      "text/plain": [
       "<Figure size 432x288 with 1 Axes>"
      ]
     },
     "metadata": {
      "needs_background": "light"
     },
     "output_type": "display_data"
    },
    {
     "data": {
      "image/png": "[encoded data removed]",
      "text/plain": [
       "<Figure size 432x288 with 1 Axes>"
      ]
     },
     "metadata": {
      "needs_background": "light"
     },
     "output_type": "display_data"
    },
    {
     "data": {
      "image/png": "[encoded data removed]",
      "text/plain": [
       "<Figure size 432x288 with 1 Axes>"
      ]
     },
     "metadata": {
      "needs_background": "light"
     },
     "output_type": "display_data"
    }
   ],
   "source": [
    "# Declare vars for the plotting of figures \n",
    "accuracy = history.history['accuracy']\n",
    "val_accuracy = history.history['val_accuracy']\n",
    "loss = history.history['loss']\n",
    "val_loss = history.history['val_loss']\n",
    "epochs = range(len(accuracy))\n",
    "\n",
    "# overall model scoreing \n",
    "plt.plot(val_loss, 'r', loss, 'b', val_accuracy, 'g', accuracy, 'y')\n",
    "label = 'R = val_loss', 'B = loss', 'G = val_accuracy', 'Y = accuarcy'\n",
    "plt.title('Model Overview')\n",
    "plt.legend(label)\n",
    "plt.xlabel(\"Epoch #\")\n",
    "plt.ylabel(\"Loss/Accuracy\")\n",
    "plt.show()\n",
    "\n",
    "# Training output \n",
    "plt.plot(epochs, accuracy, label='Training accuracy')\n",
    "plt.plot(epochs, val_accuracy, label='Validation accuracy')\n",
    "plt.title('Training and validation accuracy')\n",
    "plt.legend()\n",
    "plt.xlabel(\"Epoch #\")\n",
    "plt.ylabel(\"Loss/Accuracy\")\n",
    "plt.show()\n",
    "\n",
    "# testing output \n",
    "plt.plot(epochs, loss, label='Training loss')\n",
    "plt.plot(epochs, val_loss, label='Validation loss')\n",
    "plt.title('Training and validation loss')\n",
    "plt.legend()\n",
    "plt.xlabel(\"Epoch #\")\n",
    "plt.ylabel(\"Loss/Accuracy\")\n",
    "plt.show()"
   ]
  },
  {
   "cell_type": "code",
   "execution_count": 12,
   "id": "1cc7b875",
   "metadata": {},
   "outputs": [
    {
     "name": "stdout",
     "output_type": "stream",
     "text": [
      "Saved model to disk\n"
     ]
    }
   ],
   "source": [
    "model.save(Output + \"modelReFIT8.h5\")\n",
    "print(\"Saved model to disk\")"
   ]
  },
  {
   "cell_type": "code",
   "execution_count": null,
   "id": "f8863bd5",
   "metadata": {},
   "outputs": [],
   "source": []
  }
 ],
 "metadata": {
  "kernelspec": {
   "display_name": "myfypenv",
   "language": "python",
   "name": "myfypenv"
  },
  "language_info": {
   "codemirror_mode": {
    "name": "ipython",
    "version": 3
   },
   "file_extension": ".py",
   "mimetype": "text/x-python",
   "name": "python",
   "nbconvert_exporter": "python",
   "pygments_lexer": "ipython3",
   "version": "3.8.8"
  }
 },
 "nbformat": 4,
 "nbformat_minor": 5
}
