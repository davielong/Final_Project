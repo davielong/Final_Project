{
 "cells": [
  {
   "cell_type": "code",
   "execution_count": null,
   "id": "ae732515",
   "metadata": {},
   "outputs": [],
   "source": [
    "import os\n",
    "import csv\n",
    "import fnmatch\n",
    "import sys\n",
    "import time\n",
    "import pandas as pd\n",
    "import shutil\n",
    "import numpy as np\n",
    "from shutil import copyfile\n",
    "from numpy import savetxt\n",
    "\n",
    "directory = 'E:\\\\Win32_EXE\\\\'\n",
    "malsort = 'D:\\\\finalSet\\\\'\n",
    "malDir = 'C:\\\\Users\\davie\\Desktop\\Final_Project\\FYP\\Processed_Data\\\\'\n",
    "classes = ['agent.BDMJ', 'agen', 'allaple', 'autoit', 'berbew', 'bitman', 'dinwod', 'dorkbot', \n",
    "               'dridex', 'emotet', 'fsysna', 'hematite', 'installmonster', 'oberal', 'picsys', \n",
    "               'salgorea', 'scar', 'sfone', 'shifu', 'socks', 'sytro', 'vilsel', 'vobfus']"
   ]
  },
  {
   "cell_type": "code",
   "execution_count": null,
   "id": "0dfd6cf8",
   "metadata": {},
   "outputs": [],
   "source": [
    "hlist = [\"mID\", \"mFName\"]\n",
    "data = pd.read_csv(malDir+ 'avcl_20TO21.csv', names=hlist) \n",
    "data['mFName'] = data['mFName'].astype('string')\n",
    "data['mID'] = data['mID'].astype('string')"
   ]
  },
  {
   "cell_type": "code",
   "execution_count": null,
   "id": "6312b16e",
   "metadata": {
    "scrolled": true
   },
   "outputs": [],
   "source": [
    "data.dtypes\n"
   ]
  },
  {
   "cell_type": "code",
   "execution_count": null,
   "id": "0b55b175",
   "metadata": {},
   "outputs": [],
   "source": [
    "data.describe\n"
   ]
  },
  {
   "cell_type": "code",
   "execution_count": null,
   "id": "ef61bde0",
   "metadata": {},
   "outputs": [],
   "source": [
    "data = data['mID']+','+data['mFName']\n"
   ]
  },
  {
   "cell_type": "code",
   "execution_count": null,
   "id": "ffcedc56",
   "metadata": {},
   "outputs": [],
   "source": [
    "data.describe"
   ]
  },
  {
   "cell_type": "code",
   "execution_count": null,
   "id": "50d88efc",
   "metadata": {},
   "outputs": [],
   "source": [
    "pData = []\n",
    "counter1 = 0\n",
    "counter2 = 0\n",
    "\n",
    "for row in data:\n",
    "    for c in classes:\n",
    "        sampleTag = row[65:]\n",
    "        if sampleTag == c:\n",
    "            pData.append(row)\n",
    "            counter1 +=1\n",
    "        else:counter2 +=1\n",
    "print('files scanned that match: ', counter1, ' and the total files scanned: ',counter2)    \n",
    "            "
   ]
  },
  {
   "cell_type": "code",
   "execution_count": null,
   "id": "6c00e6b1",
   "metadata": {},
   "outputs": [],
   "source": [
    "data = pd.DataFrame(pData,columns=None)\n",
    "data.describe"
   ]
  },
  {
   "cell_type": "code",
   "execution_count": null,
   "id": "27a8013a",
   "metadata": {},
   "outputs": [],
   "source": [
    "data.describe\n",
    "data.to_csv(malDir+'tempfinal.csv',index=False)"
   ]
  },
  {
   "cell_type": "code",
   "execution_count": null,
   "id": "014f4477",
   "metadata": {},
   "outputs": [],
   "source": [
    "hlist = [\"mID\", \"mFName\"]\n",
    "data = pd.read_csv(malDir+ 'tempfinal.csv', names=hlist) \n",
    "data['mFName'] = data['mFName'].astype('string')\n",
    "data['mID'] = data['mID'].astype('string')"
   ]
  },
  {
   "cell_type": "code",
   "execution_count": null,
   "id": "a4489158",
   "metadata": {},
   "outputs": [],
   "source": [
    "data.describe\n",
    "data = data['mID']+','+data['mFName']\n",
    "data.head(5)\n",
    "data.dtypes"
   ]
  },
  {
   "cell_type": "code",
   "execution_count": null,
   "id": "9797c7e9",
   "metadata": {},
   "outputs": [],
   "source": [
    "for c in classes:\n",
    "    os.mkdir(malsort+c)"
   ]
  },
  {
   "cell_type": "code",
   "execution_count": null,
   "id": "c6fdad71",
   "metadata": {
    "scrolled": true
   },
   "outputs": [],
   "source": [
    "def find_files(directory):\n",
    "    for item in os.listdir(directory):\n",
    "        if os.path.isfile(os.path.join(directory, item)):\n",
    "                filename = item\n",
    "                yield filename\n",
    "\n",
    "runtime = True\n",
    "while runtime == True:\n",
    "    for filename in find_files(directory):\n",
    "        for row in data:\n",
    "            if filename in row:\n",
    "                dstfolder = row[65:]\n",
    "                source = directory+filename\n",
    "                dst = malsort+dstfolder+'\\\\'+filename\n",
    "                command = 'move '+source+ ' '+dst\n",
    "                #os.system(command)\n",
    "                print(command)\n",
    "    runtime = False;\n",
    "    print('Done')"
   ]
  },
  {
   "cell_type": "code",
   "execution_count": null,
   "id": "3ed64ceb",
   "metadata": {},
   "outputs": [],
   "source": [
    "data.head()"
   ]
  },
  {
   "cell_type": "code",
   "execution_count": null,
   "id": "a8a372bd",
   "metadata": {},
   "outputs": [],
   "source": []
  }
 ],
 "metadata": {
  "kernelspec": {
   "display_name": "myfypenv",
   "language": "python",
   "name": "myfypenv"
  },
  "language_info": {
   "codemirror_mode": {
    "name": "ipython",
    "version": 3
   },
   "file_extension": ".py",
   "mimetype": "text/x-python",
   "name": "python",
   "nbconvert_exporter": "python",
   "pygments_lexer": "ipython3",
   "version": "3.8.8"
  }
 },
 "nbformat": 4,
 "nbformat_minor": 5
}
