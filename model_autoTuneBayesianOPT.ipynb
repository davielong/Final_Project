{
 "cells": [
  {
   "cell_type": "code",
   "execution_count": 1,
   "id": "f22ee45d",
   "metadata": {},
   "outputs": [],
   "source": [
    "# declare the imports for building our neural network and displaying our data \n",
    "import tensorflow as tf\n",
    "import PIL\n",
    "import os\n",
    "import h5py\n",
    "import sys\n",
    "import numpy as np\n",
    "import pandas as pd\n",
    "import random\n",
    "import csv\n",
    "import cv2\n",
    "import fnmatch\n",
    "import kerastuner as kt\n",
    "import matplotlib.pyplot as plt \n",
    "from shutil import copyfile\n",
    "from sklearn.model_selection import train_test_split\n",
    "from numpy import asarray\n",
    "from numpy import savetxt\n",
    "from PIL import Image\n",
    "from tensorflow import keras\n",
    "from tensorflow.keras import layers\n",
    "from keras.models import Sequential\n",
    "from keras.layers import Dense, Dropout, Conv2D, MaxPool2D, Flatten, Activation, BatchNormalization\n",
    "from keras.utils import np_utils\n",
    "from matplotlib import image\n",
    "from os import listdir\n",
    "from sklearn.metrics import classification_report\n",
    "from keras import optimizers\n",
    "from tensorflow.keras.callbacks import EarlyStopping\n",
    "\n",
    "# set the input and outpout Dirs\n",
    "data_dir = 'C:\\\\Users\\davie\\Desktop\\Final_Project\\FYP\\HCurve'\n",
    "Output = 'C:\\\\Users\\davie\\Desktop\\Final_Project\\FYP\\Processed_Data\\\\'"
   ]
  },
  {
   "cell_type": "code",
   "execution_count": 2,
   "id": "ea73456b",
   "metadata": {},
   "outputs": [
    {
     "name": "stdout",
     "output_type": "stream",
     "text": [
      "(9818, 32, 32, 3)\n",
      "(3273, 32, 32, 3)\n",
      "(9818,)\n",
      "(3273,)\n"
     ]
    }
   ],
   "source": [
    "#load and examine the shape of the datat\n",
    "X_train = np.load(Output+'xtrain32x32.npy')\n",
    "Y_train = np.load(Output+'ytrain32x32.npy')\n",
    "X_test = np.load(Output+'xtest32x32.npy')\n",
    "Y_test = np.load(Output+'ytest32x32.npy')\n",
    "print(X_train.shape)\n",
    "print(X_test.shape)\n",
    "print(Y_train.shape)\n",
    "print(Y_test.shape)"
   ]
  },
  {
   "cell_type": "code",
   "execution_count": 3,
   "id": "af62bac5",
   "metadata": {},
   "outputs": [],
   "source": [
    "# building the input vector from the 256x256 pixels\n",
    "X_train = X_train.astype('float32')\n",
    "X_test = X_test.astype('float32')\n",
    "# normalizing the data to help with the training\n",
    "X_train /= 255\n",
    "X_test /= 255"
   ]
  },
  {
   "cell_type": "code",
   "execution_count": 4,
   "id": "e42926de",
   "metadata": {},
   "outputs": [
    {
     "name": "stdout",
     "output_type": "stream",
     "text": [
      "Shape before one-hot encoding:  (9818,)\n",
      "Shape after one-hot encoding:  (9818, 23)\n"
     ]
    }
   ],
   "source": [
    "# one-hot encoding using keras\n",
    "n_classes = 23\n",
    "class_names = ['ABDMJ', 'Agen', 'Allaple', 'Autoit', 'Berbew', 'Bitman', 'Dinwod', 'Dorkbot', \n",
    "               'Dridex', 'Emotet', 'Fsysna', 'Hematite', 'InstallMonster', 'Oberal', 'Picsys', \n",
    "               'Salgorea', 'Scar', 'Sfone', 'Shifu', 'Socks', 'Sytro', 'Vilsel', 'Vobfus']\n",
    "print(\"Shape before one-hot encoding: \", Y_train.shape)\n",
    "Y_train = np_utils.to_categorical(Y_train, n_classes)\n",
    "Y_test = np_utils.to_categorical(Y_test, n_classes)\n",
    "print(\"Shape after one-hot encoding: \", Y_train.shape)"
   ]
  },
  {
   "cell_type": "code",
   "execution_count": 5,
   "id": "9e54c658",
   "metadata": {},
   "outputs": [
    {
     "name": "stdout",
     "output_type": "stream",
     "text": [
      "(9818, 32, 32, 3)\n",
      "(3273, 32, 32, 3)\n",
      "(9818, 23)\n",
      "(3273, 23)\n"
     ]
    }
   ],
   "source": [
    "print(X_train.shape)\n",
    "print(X_test.shape)\n",
    "print(Y_train.shape)\n",
    "print(Y_test.shape)"
   ]
  },
  {
   "cell_type": "code",
   "execution_count": 6,
   "id": "ae50951e",
   "metadata": {},
   "outputs": [],
   "source": [
    "def build_model(hp):\n",
    "    model = keras.Sequential()\n",
    "    model.add(layers.Flatten())\n",
    "    for i in range(hp.Int(\"num_layers\", 2, 20)):\n",
    "        model.add(layers.Dense(units=hp.Int(\"units_\" + str(i), min_value=32, max_value=512, step=32),activation=\"relu\",))\n",
    "    model.add(layers.Dense(23, activation=\"softmax\"))\n",
    "    model.compile(optimizer=keras.optimizers.Adam(hp.Choice(\"learning_rate\", [1e-2, 1e-3, 1e-4])),\n",
    "                  loss=\"categorical_crossentropy\",metrics=[\"accuracy\"],)\n",
    "    return model"
   ]
  },
  {
   "cell_type": "code",
   "execution_count": 7,
   "id": "e98b5b58",
   "metadata": {},
   "outputs": [],
   "source": [
    "# initialize an early stopping callback to prevent the model from\n",
    "# overfitting/spending too much time training with minimal gains\n",
    "es = EarlyStopping(monitor=\"val_loss\",patience=5,restore_best_weights=True)"
   ]
  },
  {
   "cell_type": "code",
   "execution_count": 8,
   "id": "745ee83c",
   "metadata": {},
   "outputs": [],
   "source": [
    "tuner = kt.BayesianOptimization(build_model, objective=\"val_accuracy\", max_trials=10, \n",
    "                                seed=42,directory=Output,project_name='AutoTuneBaysOPT')"
   ]
  },
  {
   "cell_type": "code",
   "execution_count": 9,
   "id": "ea1e21a4",
   "metadata": {},
   "outputs": [
    {
     "name": "stdout",
     "output_type": "stream",
     "text": [
      "Trial 10 Complete [00h 01m 25s]\n",
      "val_accuracy: 0.8869538903236389\n",
      "\n",
      "Best val_accuracy So Far: 0.9517262578010559\n",
      "Total elapsed time: 01h 13m 14s\n",
      "INFO:tensorflow:Oracle triggered exit\n"
     ]
    }
   ],
   "source": [
    "# perform the hyperparameter search\n",
    "print(\"[INFO] performing hyperparameter search...\")\n",
    "tuner.search(x=X_train, y=Y_train,validation_data=(X_test, Y_test), batch_size=100, callbacks=[es], epochs=30)\n",
    "# grab the best hyperparameters\n",
    "bestHP = tuner.get_best_hyperparameters(num_trials=1)[0]"
   ]
  },
  {
   "cell_type": "code",
   "execution_count": 10,
   "id": "b9da5680",
   "metadata": {},
   "outputs": [
    {
     "name": "stdout",
     "output_type": "stream",
     "text": [
      "[INFO] training the best model...\n",
      "Epoch 1/30\n",
      "99/99 [==============================] - 13s 110ms/step - loss: 2.4801 - accuracy: 0.2831 - val_loss: 2.0314 - val_accuracy: 0.3645\n",
      "Epoch 2/30\n",
      "99/99 [==============================] - 15s 149ms/step - loss: 1.6856 - accuracy: 0.5102 - val_loss: 1.4790 - val_accuracy: 0.5518\n",
      "Epoch 3/30\n",
      "99/99 [==============================] - 16s 158ms/step - loss: 1.2235 - accuracy: 0.6479 - val_loss: 1.0795 - val_accuracy: 0.6832\n",
      "Epoch 4/30\n",
      "99/99 [==============================] - 20s 207ms/step - loss: 0.9545 - accuracy: 0.7281 - val_loss: 0.9035 - val_accuracy: 0.7351\n",
      "Epoch 5/30\n",
      "99/99 [==============================] - 20s 202ms/step - loss: 0.7868 - accuracy: 0.7832 - val_loss: 0.7661 - val_accuracy: 0.7987\n",
      "Epoch 6/30\n",
      "99/99 [==============================] - 21s 214ms/step - loss: 0.6653 - accuracy: 0.8176 - val_loss: 0.8149 - val_accuracy: 0.7705\n",
      "Epoch 7/30\n",
      "99/99 [==============================] - 20s 207ms/step - loss: 0.5667 - accuracy: 0.8480 - val_loss: 0.5906 - val_accuracy: 0.8332\n",
      "Epoch 8/30\n",
      "99/99 [==============================] - 21s 209ms/step - loss: 0.4827 - accuracy: 0.8721 - val_loss: 0.6438 - val_accuracy: 0.8188\n",
      "Epoch 9/30\n",
      "99/99 [==============================] - 21s 212ms/step - loss: 0.4518 - accuracy: 0.8814 - val_loss: 0.4799 - val_accuracy: 0.8747\n",
      "Epoch 10/30\n",
      "99/99 [==============================] - 21s 215ms/step - loss: 0.3864 - accuracy: 0.8995 - val_loss: 0.4388 - val_accuracy: 0.8857\n",
      "Epoch 11/30\n",
      "99/99 [==============================] - 22s 218ms/step - loss: 0.3457 - accuracy: 0.9090 - val_loss: 0.4116 - val_accuracy: 0.8818\n",
      "Epoch 12/30\n",
      "99/99 [==============================] - 21s 214ms/step - loss: 0.3176 - accuracy: 0.9169 - val_loss: 0.4191 - val_accuracy: 0.8900\n",
      "Epoch 13/30\n",
      "99/99 [==============================] - 21s 215ms/step - loss: 0.2942 - accuracy: 0.9221 - val_loss: 0.3533 - val_accuracy: 0.9090\n",
      "Epoch 14/30\n",
      "99/99 [==============================] - 21s 211ms/step - loss: 0.2893 - accuracy: 0.9231 - val_loss: 0.3045 - val_accuracy: 0.9242\n",
      "Epoch 15/30\n",
      "99/99 [==============================] - 22s 221ms/step - loss: 0.2373 - accuracy: 0.9390 - val_loss: 0.3006 - val_accuracy: 0.9196\n",
      "Epoch 16/30\n",
      "99/99 [==============================] - 21s 212ms/step - loss: 0.2365 - accuracy: 0.9342 - val_loss: 0.3325 - val_accuracy: 0.9093\n",
      "Epoch 17/30\n",
      "99/99 [==============================] - 21s 212ms/step - loss: 0.2266 - accuracy: 0.9392 - val_loss: 0.3077 - val_accuracy: 0.9200\n",
      "Epoch 18/30\n",
      "99/99 [==============================] - 22s 217ms/step - loss: 0.2108 - accuracy: 0.9408 - val_loss: 0.2639 - val_accuracy: 0.9313\n",
      "Epoch 19/30\n",
      "99/99 [==============================] - 22s 223ms/step - loss: 0.1958 - accuracy: 0.9461 - val_loss: 0.3544 - val_accuracy: 0.8992\n",
      "Epoch 20/30\n",
      "99/99 [==============================] - 21s 214ms/step - loss: 0.1940 - accuracy: 0.9484 - val_loss: 0.2595 - val_accuracy: 0.9349\n",
      "Epoch 21/30\n",
      "99/99 [==============================] - 22s 219ms/step - loss: 0.1885 - accuracy: 0.9487 - val_loss: 0.3181 - val_accuracy: 0.9120\n",
      "Epoch 22/30\n",
      "99/99 [==============================] - 21s 215ms/step - loss: 0.1759 - accuracy: 0.9520 - val_loss: 0.3025 - val_accuracy: 0.9196\n",
      "Epoch 23/30\n",
      "99/99 [==============================] - 22s 219ms/step - loss: 0.1714 - accuracy: 0.9530 - val_loss: 0.2551 - val_accuracy: 0.9371\n",
      "Epoch 24/30\n",
      "99/99 [==============================] - 21s 217ms/step - loss: 0.1718 - accuracy: 0.9515 - val_loss: 0.2401 - val_accuracy: 0.9364\n",
      "Epoch 25/30\n",
      "99/99 [==============================] - 20s 206ms/step - loss: 0.1380 - accuracy: 0.9636 - val_loss: 0.2386 - val_accuracy: 0.9404\n",
      "Epoch 26/30\n",
      "99/99 [==============================] - 15s 149ms/step - loss: 0.1370 - accuracy: 0.9633 - val_loss: 0.2171 - val_accuracy: 0.9444\n",
      "Epoch 27/30\n",
      "99/99 [==============================] - 14s 141ms/step - loss: 0.1493 - accuracy: 0.9580 - val_loss: 0.3269 - val_accuracy: 0.9050\n",
      "Epoch 28/30\n",
      "99/99 [==============================] - 13s 135ms/step - loss: 0.1352 - accuracy: 0.9644 - val_loss: 0.2281 - val_accuracy: 0.9386\n",
      "Epoch 29/30\n",
      "99/99 [==============================] - 14s 137ms/step - loss: 0.1080 - accuracy: 0.9704 - val_loss: 0.2758 - val_accuracy: 0.9355\n",
      "Epoch 30/30\n",
      "99/99 [==============================] - 13s 132ms/step - loss: 0.1126 - accuracy: 0.9693 - val_loss: 0.3730 - val_accuracy: 0.8860\n",
      "[INFO] evaluating network...\n",
      "                precision    recall  f1-score   support\n",
      "\n",
      "         ABDMJ       1.00      0.85      0.92        27\n",
      "          Agen       0.59      0.88      0.71       152\n",
      "       Allaple       0.97      0.99      0.98        86\n",
      "        Autoit       0.90      0.84      0.87       256\n",
      "        Berbew       0.12      0.70      0.20        23\n",
      "        Bitman       0.89      0.99      0.94       270\n",
      "        Dinwod       0.98      0.99      0.98       249\n",
      "       Dorkbot       0.78      0.64      0.71        28\n",
      "        Dridex       1.00      1.00      1.00       129\n",
      "        Emotet       0.88      0.81      0.85       112\n",
      "        Fsysna       0.97      0.99      0.98       150\n",
      "      Hematite       0.95      0.99      0.97       122\n",
      "InstallMonster       0.84      0.91      0.87        75\n",
      "        Oberal       0.85      1.00      0.92        56\n",
      "        Picsys       0.98      0.98      0.98       130\n",
      "      Salgorea       0.91      1.00      0.95       155\n",
      "          Scar       0.73      0.65      0.69        83\n",
      "         Sfone       0.99      0.49      0.66       260\n",
      "         Shifu       0.99      1.00      1.00       120\n",
      "         Socks       0.95      0.44      0.60       143\n",
      "         Sytro       1.00      0.97      0.99       273\n",
      "        Vilsel       1.00      0.98      0.99       196\n",
      "        Vobfus       0.97      0.99      0.98       178\n",
      "\n",
      "      accuracy                           0.89      3273\n",
      "     macro avg       0.88      0.87      0.86      3273\n",
      "  weighted avg       0.92      0.89      0.89      3273\n",
      "\n"
     ]
    }
   ],
   "source": [
    "# build the best model and train it\n",
    "print(\"[INFO] training the best model...\")\n",
    "model = tuner.hypermodel.build(bestHP)\n",
    "history = model.fit(x=X_train, y=Y_train, validation_data=(X_test, Y_test), batch_size=100,epochs=30, callbacks=[es], verbose=1)\n",
    "# evaluate the network\n",
    "print(\"[INFO] evaluating network...\")\n",
    "predictions = model.predict(x=X_test, batch_size=100)\n",
    "print(classification_report(Y_test.argmax(axis=1), predictions.argmax(axis=1), target_names=class_names))"
   ]
  },
  {
   "cell_type": "code",
   "execution_count": 11,
   "id": "3c1e7233",
   "metadata": {
    "scrolled": true
   },
   "outputs": [
    {
     "name": "stdout",
     "output_type": "stream",
     "text": [
      "[INFO] evaluating network\n",
      "training scores are below \n",
      "\n",
      "accuracy: 92.54%\n",
      "testing scores are below \n",
      "\n",
      "accuracy: 88.60%\n"
     ]
    }
   ],
   "source": [
    "# evaluate the model and print the score to screen \n",
    "trainingscores = model.evaluate(X_train, Y_train, verbose=0)\n",
    "testingscores = model.evaluate(X_test, Y_test, verbose=0)\n",
    "print(\"[INFO] evaluating network\")\n",
    "predictions = model.predict(X_test, batch_size=100)\n",
    "print(\"training scores are below \\n\")\n",
    "print(\"%s: %.2f%%\" % (model.metrics_names[1], trainingscores[1]*100))\n",
    "print(\"testing scores are below \\n\")\n",
    "print(\"%s: %.2f%%\" % (model.metrics_names[1], testingscores[1]*100))"
   ]
  },
  {
   "cell_type": "code",
   "execution_count": null,
   "id": "c3729671",
   "metadata": {},
   "outputs": [],
   "source": []
  },
  {
   "cell_type": "code",
   "execution_count": 12,
   "id": "878b2347",
   "metadata": {
    "scrolled": false
   },
   "outputs": [
    {
     "data": {
      "image/png": "[encoded data removed]",
      "text/plain": [
       "<Figure size 432x288 with 1 Axes>"
      ]
     },
     "metadata": {
      "needs_background": "light"
     },
     "output_type": "display_data"
    },
    {
     "data": {
      "image/png": "[encoded data removed]",
      "text/plain": [
       "<Figure size 432x288 with 1 Axes>"
      ]
     },
     "metadata": {
      "needs_background": "light"
     },
     "output_type": "display_data"
    },
    {
     "data": {
      "image/png": "[encoded data removed]",
      "text/plain": [
       "<Figure size 432x288 with 1 Axes>"
      ]
     },
     "metadata": {
      "needs_background": "light"
     },
     "output_type": "display_data"
    }
   ],
   "source": [
    "# Declare vars for the plotting of figures \n",
    "accuracy = history.history['accuracy']\n",
    "val_accuracy = history.history['val_accuracy']\n",
    "loss = history.history['loss']\n",
    "val_loss = history.history['val_loss']\n",
    "epochs = range(len(accuracy))\n",
    "\n",
    "# overall model scoreing \n",
    "plt.plot(val_loss, 'r', loss, 'b', val_accuracy, 'g', accuracy, 'y')\n",
    "label = 'R = val_loss', 'B = loss', 'G = val_accuracy', 'Y = accuarcy'\n",
    "plt.title('Model Overview')\n",
    "plt.legend(label)\n",
    "plt.xlabel(\"Epoch #\")\n",
    "plt.ylabel(\"Loss/Accuracy\")\n",
    "plt.show()\n",
    "\n",
    "# Training output \n",
    "plt.plot(epochs, accuracy, label='Training accuracy')\n",
    "plt.plot(epochs, val_accuracy, label='Validation accuracy')\n",
    "plt.title('Training and validation accuracy')\n",
    "plt.legend()\n",
    "plt.xlabel(\"Epoch #\")\n",
    "plt.ylabel(\"Loss/Accuracy\")\n",
    "plt.show()\n",
    "\n",
    "# testing output \n",
    "plt.plot(epochs, loss, label='Training loss')\n",
    "plt.plot(epochs, val_loss, label='Validation loss')\n",
    "plt.title('Training and validation loss')\n",
    "plt.legend()\n",
    "plt.xlabel(\"Epoch #\")\n",
    "plt.ylabel(\"Loss/Accuracy\")\n",
    "plt.show()"
   ]
  },
  {
   "cell_type": "code",
   "execution_count": 13,
   "id": "1cc7b875",
   "metadata": {},
   "outputs": [
    {
     "name": "stdout",
     "output_type": "stream",
     "text": [
      "Saved model to disk\n"
     ]
    }
   ],
   "source": [
    "model.save(Output + \"autotuneBaysOpt.h5\")\n",
    "print(\"Saved model to disk\")"
   ]
  },
  {
   "cell_type": "code",
   "execution_count": null,
   "id": "f8863bd5",
   "metadata": {},
   "outputs": [],
   "source": []
  }
 ],
 "metadata": {
  "kernelspec": {
   "display_name": "myfypenv",
   "language": "python",
   "name": "myfypenv"
  },
  "language_info": {
   "codemirror_mode": {
    "name": "ipython",
    "version": 3
   },
   "file_extension": ".py",
   "mimetype": "text/x-python",
   "name": "python",
   "nbconvert_exporter": "python",
   "pygments_lexer": "ipython3",
   "version": "3.8.8"
  }
 },
 "nbformat": 4,
 "nbformat_minor": 5
}
